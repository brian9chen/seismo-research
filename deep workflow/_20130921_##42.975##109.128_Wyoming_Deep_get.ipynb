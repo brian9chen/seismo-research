{
 "cells": [
  {
   "cell_type": "markdown",
   "metadata": {
    "colab_type": "text",
    "id": "dyYIsbG4iYWS"
   },
   "source": [
    "# Description:\n",
    "Given the rough location of an event, download data for this event for stations meeting a certain epicentral distance criteria."
   ]
  },
  {
   "cell_type": "markdown",
   "metadata": {
    "colab_type": "text",
    "id": "uySnVPcwiYWT"
   },
   "source": [
    "# Setups"
   ]
  },
  {
   "cell_type": "code",
   "execution_count": 3,
   "metadata": {
    "colab": {},
    "colab_type": "code",
    "id": "MpAb964RiYWU"
   },
   "outputs": [],
   "source": [
    "from obspy.clients.fdsn import Client\n",
    "from obspy.core.event import Origin\n",
    "from obspy.geodetics import gps2dist_azimuth, kilometer2degrees\n",
    "from obspy.taup import TauPyModel\n",
    "from obspy.io.sac.sactrace import SACTrace\n",
    "from obspy import read_inventory, UTCDateTime\n",
    "from obspy import read\n",
    "\n",
    "import numpy as np\n",
    "import matplotlib.pyplot as plt\n",
    "plt.ioff()\n",
    "%matplotlib notebook\n",
    "\n",
    "# ***CHANGE THIS*** - things that need to be manually changed for each event"
   ]
  },
  {
   "cell_type": "markdown",
   "metadata": {
    "colab_type": "text",
    "id": "Mj-7NfF4iYWZ"
   },
   "source": [
    "### Choose:"
   ]
  },
  {
   "cell_type": "code",
   "execution_count": 4,
   "metadata": {
    "colab": {},
    "colab_type": "code",
    "id": "LTrkcC2wiYWZ"
   },
   "outputs": [
    {
     "name": "stdout",
     "output_type": "stream",
     "text": [
      "mkdir: /Users/23brianc/Documents/Internship2020/Events/Wyoming_deep/: File exists\n",
      "mkdir: /Users/23brianc/Documents/Internship2020/Events/Wyoming_deep/raw/: File exists\n",
      "mkdir: /Users/23brianc/Documents/Internship2020/Events/Wyoming_deep/corrected/: File exists\n"
     ]
    }
   ],
   "source": [
    "# web service client:\n",
    "client = Client(\"IRIS\")\n",
    "\n",
    "# Earth model:\n",
    "model = TauPyModel(model='iasp91')\n",
    "\n",
    "# folder for this event:\n",
    "directory = '/Users/23brianc/Documents/Internship2020/Events/Wyoming_deep/'\n",
    "\n",
    "# directory to download raw data:\n",
    "raw_directory = directory+'raw/'\n",
    "\n",
    "# directory to store instrument-corrected data:\n",
    "corrected_directory = directory+'corrected/'\n",
    "\n",
    "%mkdir /Users/23brianc/Documents/Internship2020/Events/Wyoming_deep/\n",
    "%mkdir /Users/23brianc/Documents/Internship2020/Events/Wyoming_deep/raw/\n",
    "%mkdir /Users/23brianc/Documents/Internship2020/Events/Wyoming_deep/corrected/"
   ]
  },
  {
   "cell_type": "code",
   "execution_count": 5,
   "metadata": {
    "colab": {},
    "colab_type": "code",
    "id": "14S6F5xFiYWd"
   },
   "outputs": [],
   "source": [
    "# pre-filter for removing instrument response:\n",
    "prefilt = (0.05,0.1,10,20)\n",
    "\n",
    "def detrend_and_remove_response(stream,window):\n",
    "    for tr in stream:\n",
    "        tr.detrend(type='constant')  # de-mean\n",
    "        tr.detrend(type='linear')\n",
    "        tr.remove_response(output='VEL',taper = True, taper_fraction = 0.05,pre_filt= window, water_level = 60.0)\n",
    "    return stream"
   ]
  },
  {
   "cell_type": "markdown",
   "metadata": {
    "colab_type": "text",
    "id": "-TVKSQb4iYWg"
   },
   "source": [
    "# Search for stations given an event"
   ]
  },
  {
   "cell_type": "code",
   "execution_count": 6,
   "metadata": {
    "colab": {},
    "colab_type": "code",
    "id": "w79j0V5tiYWg"
   },
   "outputs": [],
   "source": [
    "# search for stations certain distance away from event\n",
    "station_search_lower_range=kilometer2degrees(300)  #in km\n",
    "station_search_upper_range=kilometer2degrees(1100)"
   ]
  },
  {
   "cell_type": "code",
   "execution_count": 7,
   "metadata": {
    "colab": {},
    "colab_type": "code",
    "id": "Xc2zMH5XiYWj"
   },
   "outputs": [],
   "source": [
    "# event location: latitude and longitude\n",
    "\n",
    "evla = 42.975 # ***CHANGE THIS***\n",
    "evlo = -109.128 # ***CHANGE THIS***\n",
    "\n",
    "# search timeframe\n",
    "starttime = UTCDateTime(\"2013-09-20T13:16:33\") # ***CHANGE THIS***\n",
    "endtime = UTCDateTime(\"2013-09-22T13:16:33\") # ***CHANGE THIS***\n",
    "\n",
    "# station inventory\n",
    "inventory = client.get_stations(level='response',channel='BH*',starttime=starttime,endtime=endtime,latitude=evla,\n",
    "                               longitude=evlo, minradius=station_search_lower_range,\n",
    "                                maxradius=station_search_upper_range) #network = 'XI'\n",
    "inventory.write(directory+\"inventory.xml\",format='STATIONXML')\n",
    "# inventory[x][y] gives you station y in network x"
   ]
  },
  {
   "cell_type": "code",
   "execution_count": 8,
   "metadata": {},
   "outputs": [
    {
     "data": {
      "text/plain": [
       "Inventory created at 2020-11-10T23:06:36.000000Z\n",
       "\tCreated by: IRIS WEB SERVICE: fdsnws-station | version: 1.1.47\n",
       "\t\t    http://service.iris.edu/fdsnws/station/1/query?starttime=2013-09-20...\n",
       "\tSending institution: IRIS-DMC (IRIS-DMC)\n",
       "\tContains:\n",
       "\t\tNetworks (23):\n",
       "\t\t\t2G, AE, BK, CC, CI, CN, II, IM, IU, IW, LB, LI, MB, PI, PN, SC, TA\n",
       "\t\t\tUO, US, UU, UW, X2, Y5\n",
       "\t\tStations (165):\n",
       "\t\t\t2G.IUGFS (Indiana Univ Geologic Field Station, Cardwell, MT)\n",
       "\t\t\tAE.U15A (North Rim, AZ, USA)\n",
       "\t\t\tAE.W13A (Hualapai Mountain Park, Kingman, AZ, USA)\n",
       "\t\t\tAE.W18A (Petrified Forest, AZ, USA)\n",
       "\t\t\tAE.X16A (Lo Mia Camp, Pine, AZ, USA)\n",
       "\t\t\tAE.X18A (Snowflake, AZ, USA)\n",
       "\t\t\tAE.Y14A (Wickenburg, AZ, USA)\n",
       "\t\t\tBK.CMB (Columbia College, Columbia, CA, USA)\n",
       "\t\t\tBK.HATC (Hat Creek Radio Astronomy Obs., Cassel, CA, USA)\n",
       "\t\t\tBK.HELL (Rademacher Property, Miramonte, CA, USA)\n",
       "\t\t\tBK.KCC (Kaiser Creek, CA, USA)\n",
       "\t\t\tBK.MOD (Modoc Plateau, CA, USA)\n",
       "\t\t\tCC.ASBU (Astronaut Butte)\n",
       "\t\t\tCC.CIHL (Cinder Hill, Newberry Volcano)\n",
       "\t\t\tCC.CPCO (Central Pumice Cone, Newberry Volcano)\n",
       "\t\t\tCC.NORM (North Rim, Newberry Volcano)\n",
       "\t\t\tCC.OBSR (Observation Rock)\n",
       "\t\t\tCC.PANH (Panhandle Gap)\n",
       "\t\t\tCC.PRLK (Prince Lake)\n",
       "\t\t\tCC.STD (Studebaker Ridge, Mount St. Helens)\n",
       "\t\t\tCC.SWF2 (Southwest Flank 2, Mount St. Helens)\n",
       "\t\t\tCC.SWNB (Southwest Newberry, Newberry Volcano)\n",
       "\t\t\tCC.TCBU (Trout Creek Butte)\n",
       "\t\t\tCC.TMBU (Tom Butte, Newberry Volcano)\n",
       "\t\t\tCC.VALT (Vault, Mount St. Helens)\n",
       "\t\t\tCC.WIFE (The Wife)\n",
       "\t\t\tCI.CCC (Christmas Canyon China Lake)\n",
       "\t\t\tCI.CGO (Cerro Gordo)\n",
       "\t\t\tCI.CLC (China Lake)\n",
       "\t\t\tCI.CWC (Cottonwood Creek)\n",
       "\t\t\tCI.DAN (Danby)\n",
       "\t\t\tCI.DSC (Desert Studies Center)\n",
       "\t\t\tCI.FUR (Furnace Creek)\n",
       "\t\t\tCI.GMR (Granite Mountains Research Center)\n",
       "\t\t\tCI.GRA (Grapevine Ranger Station)\n",
       "\t\t\tCI.GSC (Goldstone)\n",
       "\t\t\tCI.HEC (Hector)\n",
       "\t\t\tCI.JRC2 (Joshua Ridge: China Lake)\n",
       "\t\t\tCI.LDF (Lanfair)\n",
       "\t\t\tCI.MLAC (Mammoth)\n",
       "\t\t\tCI.MPM (Manuel Prospect Mine)\n",
       "\t\t\tCI.MTP (Mountain Pass)\n",
       "\t\t\tCI.NEE2 (Needles Airport)\n",
       "\t\t\tCI.PDM (Parker)\n",
       "\t\t\tCI.SHO (Shoshone)\n",
       "\t\t\tCI.SLA (Slate Mountain)\n",
       "\t\t\tCI.TIN (Tinemaha)\n",
       "\t\t\tCI.TUQ (Turquoise Mountain)\n",
       "\t\t\tCN.PNT (Penticton, BC, CA)\n",
       "\t\t\tCN.WALA (Waterton Lake, AB, CA)\n",
       "\t\t\tII.IASL (Albuquerque Seismological Laboratory, N.Mex.)\n",
       "\t\t\tIM.NV31 (NVAR Array Site 31, Mina, NV, USA)\n",
       "\t\t\tIU.ANMO (Albuquerque, New Mexico, USA)\n",
       "\t\t\tIU.RSSD (Black Hills, South Dakota, USA)\n",
       "\t\t\tIW.DLMT (Dillon, Montana, USA)\n",
       "\t\t\tIW.MFID (Near Browns Crk and Slater Flat Rd, Idaho, USA)\n",
       "\t\t\tIW.PHWY (Pilot Hill, Wyoming, USA)\n",
       "\t\t\tIW.PLID (Pearl Lake, Idaho, USA)\n",
       "\t\t\tIW.SMCO (Snowmass, Colorado, USA)\n",
       "\t\t\tLB.BMN (Battle Mountain, Nevada, USA)\n",
       "\t\t\tLB.DAC (Inyo County, Darwin, CA, USA)\n",
       "\t\t\tLB.MVU (Piute County, Marysvale, UT, USA)\n",
       "\t\t\tLB.TPH (Tonopah, Nevada, USA)\n",
       "\t\t\tLI.LTH (Hanford, WA, USA)\n",
       "\t\t\tMB.JTMT (Jette Lake, Montana)\n",
       "\t\t\tPI.EP00 (PASSCAL_EAST_PIER_00)\n",
       "\t\t\tPI.EP01 (PASSCAL_EAST_PIER_02)\n",
       "\t\t\tPI.EP02 (PASSCAL_EAST_PIER_04)\n",
       "\t\t\tPI.EP03 (PASSCAL_EAST_PIER_06)\n",
       "\t\t\tPI.EP04 (PASSCAL_EAST_PIER_08)\n",
       "\t\t\tPI.NP02 (Socorro,NM USA)\n",
       "\t\t\tPI.SP00 (Socorro,NM USA)\n",
       "\t\t\tPI.SP01 (PASSCAL_SOUTH_PIER_01)\n",
       "\t\t\tPI.SP02 (PASSCAL_SOUTH_PIER_02)\n",
       "\t\t\tPI.SP03 (PASSCAL_SOUTH_PIER_03)\n",
       "\t\t\tPI.SP04 (PASSCAL_SOUTH_PIER_04)\n",
       "\t\t\tPI.SP05 (PASSCAL_SOUTH_PIER_05)\n",
       "\t\t\tPI.SP06 (PASSCAL_SOUTH_PIER_06)\n",
       "\t\t\tPI.SP07 (PASSCAL_SOUTH_PIER_07)\n",
       "\t\t\tPI.SP08 (PASSCAL_SOUTH_PIER_08)\n",
       "\t\t\tPI.SP09 (PASSCAL_SOUTH_PIER_09)\n",
       "\t\t\tPI.WP00 (PASSCAL_WEST_PIER_00)\n",
       "\t\t\tPI.WP01 (PASSCAL_WEST_PIER_02)\n",
       "\t\t\tPI.WP02 (PASSCAL_WEST_PIER_04)\n",
       "\t\t\tPI.WP03 (PASSCAL_WEST_PIER_06)\n",
       "\t\t\tPI.WP04 (PASSCAL_WEST_PIER_08)\n",
       "\t\t\tPN.PPABQ (Albuquerque Academy, Albuquerque, NM, USA)\n",
       "\t\t\tPN.PPCSM (CSM - Geophysics Department, Golden, CO, USA)\n",
       "\t\t\tPN.PPIGN (Ignacio High School, Ignacio, CO, USA)\n",
       "\t\t\tPN.PPREH (-)\n",
       "\t\t\tPN.PPRMH (-)\n",
       "\t\t\tPN.PPSPR (Springfield High School, Springfield, CO, USA)\n",
       "\t\t\tPN.PPSTJ (St. Johns High School, St. Johns, AZ, USA)\n",
       "\t\t\tPN.PPUHS (Umatilla High School, Umatilla, OR, USA)\n",
       "\t\t\tPN.PPWES (Westminster High School, Westminster, CO, USA)\n",
       "\t\t\tPN.PPWHS (Winslow High School, Winslow, AZ, USA)\n",
       "\t\t\tSC.SRGE (Socorro-Rio Grand station)\n",
       "\t\t\tSC.Y22A (Socorro, NM, USA)\n",
       "\t\t\tTA.BGNE (Belgrade, NE, USA)\n",
       "\t\t\tTA.C06D (Leavenworth, WA, USA)\n",
       "\t\t\tTA.F05D (White Salmon, WA, USA)\n",
       "\t\t\tTA.G05D (Wamic, OR, USA)\n",
       "\t\t\tTA.I04A (Tendick Farm, Oakridge, OR, USA)\n",
       "\t\t\tTA.I05D (Terrebonne, OR, USA)\n",
       "\t\t\tTA.J04D (Umpqua National Forest, Toketee, OR, USA)\n",
       "\t\t\tTA.J05D (Fort Rock, OR, USA)\n",
       "\t\t\tTA.K04D (Chiloquin, OR, USA)\n",
       "\t\t\tTA.KSCO (Kaye Shedlock's, Cheyenne Wells, CO, USA)\n",
       "\t\t\tTA.L04D (Klamath Falls, OR, USA)\n",
       "\t\t\tTA.M04C (Macdoel, CA, USA)\n",
       "\t\t\tTA.MDND (Maddock, ND, USA)\n",
       "\t\t\tTA.N23A (Red Feather Lakes, CO, USA)\n",
       "\t\t\tTA.O03E (Paynes Creek, CA, USA)\n",
       "\t\t\tTA.O20A (White River City, CO, USA)\n",
       "\t\t\tTA.Q24A (Divide, CO, USA)\n",
       "\t\t\tTA.R11A (Troy Canyon, Currant, NV, USA)\n",
       "\t\t\tTA.S22A (4UR Ranch, Creede, CO, USA)\n",
       "\t\t\tTA.SUSD (Miller, SD, USA)\n",
       "\t\t\tTA.T25A (Trinidad, CO, USA)\n",
       "\t\t\tTA.W18A (Petrified Forest, AZ, USA)\n",
       "\t\t\tTA.Y22D (IRIS PASSCAL Instrument Center, Socorro, NM, USA)\n",
       "\t\t\tUO.PINE (Pine Mountain, OR, USA)\n",
       "\t\t\tUS.BMO (Blue Mountains Array (Baker), Oregon, USA)\n",
       "\t\t\tUS.BOZ (Bozeman, Montana, USA)\n",
       "\t\t\tUS.CBKS (Cedar Bluff, Kansas, USA)\n",
       "\t\t\tUS.DGMT (Dagmar, Montana, USA)\n",
       "\t\t\tUS.DUG (Dugway, Tooele County, Utah, USA)\n",
       "\t\t\tUS.ECSD (EROS Data Center, Sioux Falls, South Dakota, USA)\n",
       "\t\t\tUS.EGMT (Eagleton, Montana, USA)\n",
       "\t\t\tUS.ELK (Elko, Nevada, USA)\n",
       "\t\t\tUS.HAWA (Hanford, Washington, USA)\n",
       "\t\t\tUS.HLID (Hailey, Idaho, USA)\n",
       "\t\t\tUS.ISCO (Idaho Springs, Colorado, USA)\n",
       "\t\t\tUS.LAO (LASA Array, Montana, USA)\n",
       "\t\t\tUS.MSO (Missoula, Montana, USA)\n",
       "\t\t\tUS.MVCO (Mesa Verde, Colorado, USA)\n",
       "\t\t\tUS.NEW (Newport, Washington, USA)\n",
       "\t\t\tUS.OGNE (Ogallala, Nebraska, USA)\n",
       "\t\t\tUS.SDCO (Great Sand Dunes National Park, Colorado, USA)\n",
       "\t\t\tUS.TPNV (Topopah Spring, Nevada, USA)\n",
       "\t\t\tUS.WUAZ (Wupatki, Arizona, USA)\n",
       "\t\t\tUS.WVOR (Wild Horse Valley, Oregon, USA)\n",
       "\t\t\tUU.SRU (San Rafael Swell, UT, USA)\n",
       "\t\t\tUW.BLOW (BLOW, Detroit Lake, OR, USA)\n",
       "\t\t\tUW.BRAN (Beach Ranch, Enterprise, OR, USA)\n",
       "\t\t\tUW.DAVN (Davenport, WA, USA)\n",
       "\t\t\tUW.HOOD (Mt Hood Meadows, OR CREST BB SMO)\n",
       "\t\t\tUW.LON (Longmire CREST broad-band)\n",
       "\t\t\tUW.LTY (Liberty Mine, WA, USA)\n",
       "\t\t\tUW.OMAK (Omak, WA, USA)\n",
       "\t\t\tUW.TUCA (Wood Farm, Starbuck, WA, USA)\n",
       "\t\t\tUW.WOLL (Wollman Farm, Schrag, WA, USA)\n",
       "\t\t\tX2.CRAT (CRAT)\n",
       "\t\t\tX2.HOWY (HOWY)\n",
       "\t\t\tX2.ONIL (ONIL)\n",
       "\t\t\tX2.RICH (RICH)\n",
       "\t\t\tX2.SCRD (SCRD)\n",
       "\t\t\tX2.SSET (SSET)\n",
       "\t\t\tX2.TTOP (TTOP)\n",
       "\t\t\tY5.CLA (Claresholm, Alberta, CANADA)\n",
       "\t\t\tY5.CZA (Wainwright, Alberta, CANADA)\n",
       "\t\t\tY5.LYA (Strathmore, Alberta, CANADA)\n",
       "\t\t\tY5.MHB (Medicine Hat, Alberta, CANADA)\n",
       "\t\t\tY5.RDR (Red Deer, Alberta, CANADA)\n",
       "\t\t\tY5.WALA (Waterton Lake, Alberta, CANADA)\n",
       "\t\tChannels (540):\n",
       "\t\t\t2G.IUGFS..BHZ, 2G.IUGFS..BHN, 2G.IUGFS..BHE, AE.U15A..BHZ, \n",
       "\t\t\tAE.U15A..BHN, AE.U15A..BHE, AE.W13A..BHZ, AE.W13A..BHN, \n",
       "\t\t\tAE.W13A..BHE, AE.W18A..BHZ, AE.W18A..BHN, AE.W18A..BHE, \n",
       "\t\t\tAE.X16A..BHZ, AE.X16A..BHN, AE.X16A..BHE, AE.X18A..BHZ, \n",
       "\t\t\tAE.X18A..BHN, AE.X18A..BHE, AE.Y14A..BHZ, AE.Y14A..BHN, \n",
       "\t\t\tAE.Y14A..BHE, BK.CMB.00.BHZ, BK.CMB.00.BHN, BK.CMB.00.BHE, \n",
       "\t\t\tBK.HATC.00.BHZ, BK.HATC.00.BHN, BK.HATC.00.BHE, BK.HELL.00.BHZ, \n",
       "\t\t\tBK.HELL.00.BHN, BK.HELL.00.BHE, BK.KCC.00.BHZ, BK.KCC.00.BHN, \n",
       "\t\t\tBK.KCC.00.BHE, BK.MOD.00.BHZ, BK.MOD.00.BHN, BK.MOD.00.BHE, \n",
       "\t\t\tCC.ASBU..BHZ, CC.ASBU..BHN, CC.ASBU..BHE, CC.CIHL..BHZ, \n",
       "\t\t\tCC.CIHL..BHN, CC.CIHL..BHE, CC.CPCO..BHZ, CC.CPCO..BHN, \n",
       "\t\t\tCC.CPCO..BHE, CC.NORM..BHZ, CC.NORM..BHN, CC.NORM..BHE, \n",
       "\t\t\tCC.OBSR..BHZ, CC.OBSR..BHN, CC.OBSR..BHE, CC.PANH..BHZ, \n",
       "\t\t\tCC.PANH..BHN, CC.PANH..BHE, CC.PRLK..BHZ, CC.PRLK..BHN, \n",
       "\t\t\tCC.PRLK..BHE, CC.STD..BHZ, CC.STD..BHN, CC.STD..BHE, CC.SWF2..BHZ, \n",
       "\t\t\tCC.SWF2..BHN, CC.SWF2..BHE, CC.SWNB..BHZ, CC.SWNB..BHN, \n",
       "\t\t\tCC.SWNB..BHE, CC.TCBU..BHZ, CC.TCBU..BHN, CC.TCBU..BHE, \n",
       "\t\t\tCC.TMBU..BHZ, CC.TMBU..BHN, CC.TMBU..BHE, CC.VALT..BHZ, \n",
       "\t\t\tCC.VALT..BHN, CC.VALT..BHE, CC.WIFE..BHZ, CC.WIFE..BHN, \n",
       "\t\t\tCC.WIFE..BHE, CI.CCC..BHZ, CI.CCC..BHN, CI.CCC..BHE, CI.CGO..BHZ, \n",
       "\t\t\tCI.CGO..BHN, CI.CGO..BHE, CI.CLC..BHZ, CI.CLC..BHN, CI.CLC..BHE, \n",
       "\t\t\tCI.CWC..BHZ, CI.CWC..BHN, CI.CWC..BHE, CI.DAN..BHZ, CI.DAN..BHN, \n",
       "\t\t\tCI.DAN..BHE, CI.DSC..BHZ, CI.DSC..BHN, CI.DSC..BHE, CI.FUR..BHZ, \n",
       "\t\t\tCI.FUR..BHN, CI.FUR..BHE, CI.GMR..BHZ, CI.GMR..BHN, CI.GMR..BHE, \n",
       "\t\t\tCI.GRA..BHZ, CI.GRA..BHN, CI.GRA..BHE, CI.GSC..BHZ, CI.GSC..BHN, \n",
       "\t\t\tCI.GSC..BHE, CI.HEC..BHZ, CI.HEC..BHN, CI.HEC..BHE, CI.JRC2..BHZ, \n",
       "\t\t\tCI.JRC2..BHN, CI.JRC2..BHE, CI.LDF..BHZ, CI.LDF..BHN, CI.LDF..BHE, \n",
       "\t\t\tCI.MLAC..BHZ, CI.MLAC..BHN, CI.MLAC..BHE, CI.MPM..BHZ, CI.MPM..BHN\n",
       "\t\t\tCI.MPM..BHE, CI.MTP..BHZ, CI.MTP..BHN, CI.MTP..BHE, CI.NEE2..BHZ\n",
       "\t\t\tCI.NEE2..BHN, CI.NEE2..BHE, CI.PDM..BHZ, CI.PDM..BHN, CI.PDM..BHE\n",
       "\t\t\tCI.SHO..BHZ, CI.SHO..BHN, CI.SHO..BHE, CI.SLA..BHZ, CI.SLA..BHN, \n",
       "\t\t\tCI.SLA..BHE, CI.TIN..BHZ, CI.TIN..BHN, CI.TIN..BHE, CI.TUQ..BHZ, \n",
       "\t\t\tCI.TUQ..BHN, CI.TUQ..BHE, CN.PNT..BHZ, CN.PNT..BHN, CN.PNT..BHE, \n",
       "\t\t\tCN.WALA..BHZ, CN.WALA..BHN, CN.WALA..BHE, II.IASL.BH.BHZ, \n",
       "\t\t\tII.IASL.BH.BH1, II.IASL.BH.BH2, II.IASL.TU.BH1, II.IASL.TU.BH2, \n",
       "\t\t\tIM.NV31..BHZ, IM.NV31..BHN, IM.NV31..BHE, IU.ANMO.00.BHZ, \n",
       "\t\t\tIU.ANMO.00.BH1, IU.ANMO.00.BH2, IU.ANMO.10.BHZ, IU.ANMO.10.BH1, \n",
       "\t\t\tIU.ANMO.10.BH2, IU.RSSD.00.BHZ, IU.RSSD.00.BH1, IU.RSSD.00.BH2, \n",
       "\t\t\tIU.RSSD.10.BHZ, IU.RSSD.10.BH1, IU.RSSD.10.BH2, IW.DLMT.00.BHZ, \n",
       "\t\t\tIW.DLMT.00.BH1, IW.DLMT.00.BH2, IW.MFID.00.BHZ, IW.MFID.00.BH1, \n",
       "\t\t\tIW.MFID.00.BH2, IW.PHWY.00.BHZ, IW.PHWY.00.BH1, IW.PHWY.00.BH2, \n",
       "\t\t\tIW.PLID.00.BHZ, IW.PLID.00.BH1, IW.PLID.00.BH2, IW.SMCO.00.BHZ, \n",
       "\t\t\tIW.SMCO.00.BH1, IW.SMCO.00.BH2, LB.BMN..BHZ, LB.BMN..BHN, \n",
       "\t\t\tLB.BMN..BHE, LB.DAC..BHZ, LB.DAC..BHN, LB.DAC..BHE, LB.MVU..BHZ, \n",
       "\t\t\tLB.MVU..BHN, LB.MVU..BHE, LB.TPH..BHZ, LB.TPH..BHN, LB.TPH..BHE, \n",
       "\t\t\tLI.LTH..BHZ, LI.LTH..BHN, LI.LTH..BHE, MB.JTMT..BHZ, MB.JTMT..BHN, \n",
       "\t\t\tMB.JTMT..BHE, PI.EP00.00.BHZ, PI.EP00.00.BHN, PI.EP00.00.BHE, \n",
       "\t\t\tPI.EP00.01.BHZ, PI.EP00.01.BHN, PI.EP00.01.BHE, PI.EP01.02.BHZ, \n",
       "\t\t\tPI.EP01.02.BHN, PI.EP01.02.BHE, PI.EP01.03.BHZ, PI.EP01.03.BHN, \n",
       "\t\t\tPI.EP01.03.BHE, PI.EP02.04.BHZ, PI.EP02.04.BHN, PI.EP02.04.BHE, \n",
       "\t\t\tPI.EP02.05.BHZ, PI.EP02.05.BHN, PI.EP02.05.BHE, PI.EP03.06.BHZ, \n",
       "\t\t\tPI.EP03.06.BHN, PI.EP03.06.BHE, PI.EP03.07.BHZ, PI.EP03.07.BHN, \n",
       "\t\t\tPI.EP03.07.BHE, PI.EP04.08.BHZ, PI.EP04.08.BHN, PI.EP04.08.BHE, \n",
       "\t\t\tPI.EP04.09.BHZ, PI.EP04.09.BHN, PI.EP04.09.BHE, PI.NP02..BHZ, \n",
       "\t\t\tPI.NP02..BHN, PI.NP02..BHE, PI.NP02.02.BHZ, PI.NP02.02.BHN, \n",
       "\t\t\tPI.NP02.02.BHE, PI.SP00.00.BHZ, PI.SP00.00.BHN, PI.SP00.00.BHE, \n",
       "\t\t\tPI.SP01.01.BHZ, PI.SP01.01.BHN, PI.SP01.01.BHE, PI.SP02.02.BHZ, \n",
       "\t\t\tPI.SP02.02.BHN, PI.SP02.02.BHE, PI.SP03.03.BHZ, PI.SP03.03.BHN, \n",
       "\t\t\tPI.SP03.03.BHE, PI.SP04.04.BHZ, PI.SP04.04.BHN, PI.SP04.04.BHE, \n",
       "\t\t\tPI.SP05.05.BHZ, PI.SP05.05.BHN, PI.SP05.05.BHE, PI.SP06.06.BHZ, \n",
       "\t\t\tPI.SP06.06.BHN, PI.SP06.06.BHE, PI.SP07.07.BHZ, PI.SP07.07.BHN, \n",
       "\t\t\tPI.SP07.07.BHE, PI.SP08.08.BHZ, PI.SP08.08.BHN, PI.SP08.08.BHE, \n",
       "\t\t\tPI.SP09.09.BHZ, PI.SP09.09.BHN, PI.SP09.09.BHE, PI.WP00.00.BHZ, \n",
       "\t\t\tPI.WP00.00.BHN, PI.WP00.00.BHE, PI.WP00.01.BHZ (2x), \n",
       "\t\t\tPI.WP00.01.BHN (2x), PI.WP00.01.BHE (2x), PI.WP01.02.BHZ (2x), \n",
       "\t\t\tPI.WP01.02.BHN (2x), PI.WP01.02.BHE (2x), PI.WP01.03.BHZ (2x), \n",
       "\t\t\tPI.WP01.03.BHN (2x), PI.WP01.03.BHE (2x), PI.WP02.04.BHZ (2x), \n",
       "\t\t\tPI.WP02.04.BHN (2x), PI.WP02.04.BHE (2x), PI.WP02.05.BHZ (2x), \n",
       "\t\t\tPI.WP02.05.BHN (2x), PI.WP02.05.BHE (2x), PI.WP03.06.BHZ, \n",
       "\t\t\tPI.WP03.06.BHN, PI.WP03.06.BHE, PI.WP03.07.BHZ, PI.WP03.07.BHN, \n",
       "\t\t\tPI.WP03.07.BHE, PI.WP04.08.BHZ, PI.WP04.08.BHN, PI.WP04.08.BHE, \n",
       "\t\t\tPI.WP04.09.BHZ, PI.WP04.09.BHN, PI.WP04.09.BHE, PN.PPABQ..BHZ, \n",
       "\t\t\tPN.PPCSM..BHZ, PN.PPIGN..BHZ, PN.PPREH..BHZ, PN.PPRMH..BHZ, \n",
       "\t\t\tPN.PPSPR..BHZ, PN.PPSTJ..BHZ, PN.PPUHS..BHZ, PN.PPWES..BHZ, \n",
       "\t\t\tPN.PPWHS..BHZ, SC.SRGE..BHZ, SC.SRGE..BHN, SC.SRGE..BHE, \n",
       "\t\t\tSC.Y22A..BHZ, SC.Y22A..BHN, SC.Y22A..BHE, TA.BGNE..BHZ, \n",
       "\t\t\tTA.BGNE..BHN, TA.BGNE..BHE, TA.C06D..BHZ, TA.C06D..BHN, \n",
       "\t\t\tTA.C06D..BHE, TA.F05D..BHZ, TA.F05D..BHN, TA.F05D..BHE, \n",
       "\t\t\tTA.G05D..BHZ, TA.G05D..BHN, TA.G05D..BHE, TA.I04A..BHZ, \n",
       "\t\t\tTA.I04A..BHN, TA.I04A..BHE, TA.I05D..BHZ, TA.I05D..BHN, \n",
       "\t\t\tTA.I05D..BHE, TA.J04D..BHZ, TA.J04D..BHN, TA.J04D..BHE, \n",
       "\t\t\tTA.J05D..BHZ, TA.J05D..BHN, TA.J05D..BHE, TA.K04D..BHZ, \n",
       "\t\t\tTA.K04D..BHN, TA.K04D..BHE, TA.KSCO..BHZ, TA.KSCO..BHN, \n",
       "\t\t\tTA.KSCO..BHE, TA.L04D..BHZ, TA.L04D..BHN, TA.L04D..BHE, \n",
       "\t\t\tTA.M04C..BHZ, TA.M04C..BHN, TA.M04C..BHE, TA.MDND..BHZ, \n",
       "\t\t\tTA.MDND..BHN, TA.MDND..BHE, TA.N23A..BHZ, TA.N23A..BHN, \n",
       "\t\t\tTA.N23A..BHE, TA.O03E..BHZ, TA.O03E..BHN, TA.O03E..BHE, \n",
       "\t\t\tTA.O20A..BHZ, TA.O20A..BHN, TA.O20A..BHE, TA.Q24A..BHZ, \n",
       "\t\t\tTA.Q24A..BHN, TA.Q24A..BHE, TA.R11A..BHZ, TA.R11A..BHN, \n",
       "\t\t\tTA.R11A..BHE, TA.S22A..BHZ, TA.S22A..BHN, TA.S22A..BHE, \n",
       "\t\t\tTA.SUSD..BHZ, TA.SUSD..BHN, TA.SUSD..BHE, TA.T25A..BHZ, \n",
       "\t\t\tTA.T25A..BHN, TA.T25A..BHE, TA.W18A..BHZ, TA.W18A..BHN, \n",
       "\t\t\tTA.W18A..BHE, TA.Y22D..BHZ, TA.Y22D..BHN, TA.Y22D..BHE, \n",
       "\t\t\tUO.PINE..BHZ, UO.PINE..BHN, UO.PINE..BHE, US.BMO.00.BHZ, \n",
       "\t\t\tUS.BMO.00.BH1, US.BMO.00.BH2, US.BOZ.00.BHZ, US.BOZ.00.BH1, \n",
       "\t\t\tUS.BOZ.00.BH2, US.CBKS.00.BHZ, US.CBKS.00.BH1, US.CBKS.00.BH2, \n",
       "\t\t\tUS.DGMT.00.BHZ, US.DGMT.00.BH1, US.DGMT.00.BH2, US.DGMT.10.BHZ, \n",
       "\t\t\tUS.DGMT.10.BH1, US.DGMT.10.BH2, US.DUG.00.BHZ, US.DUG.00.BH1, \n",
       "\t\t\tUS.DUG.00.BH2, US.ECSD.00.BHZ, US.ECSD.00.BH1, US.ECSD.00.BH2, \n",
       "\t\t\tUS.ECSD.10.BHZ, US.ECSD.10.BH1, US.ECSD.10.BH2, US.EGMT.00.BHZ, \n",
       "\t\t\tUS.EGMT.00.BH1, US.EGMT.00.BH2, US.ELK.00.BHZ, US.ELK.00.BH1, \n",
       "\t\t\tUS.ELK.00.BH2, US.HAWA.00.BHZ, US.HAWA.00.BH1, US.HAWA.00.BH2, \n",
       "\t\t\tUS.HLID.00.BHZ, US.HLID.00.BH1, US.HLID.00.BH2, US.ISCO.00.BHZ, \n",
       "\t\t\tUS.ISCO.00.BH1, US.ISCO.00.BH2, US.LAO.00.BHZ, US.LAO.00.BH1, \n",
       "\t\t\tUS.LAO.00.BH2, US.MSO.00.BHZ, US.MSO.00.BH1, US.MSO.00.BH2, \n",
       "\t\t\tUS.MVCO.00.BHZ, US.MVCO.00.BH1, US.MVCO.00.BH2, US.NEW.00.BHZ, \n",
       "\t\t\tUS.NEW.00.BH1, US.NEW.00.BH2, US.NEW.10.BHZ, US.NEW.10.BH1, \n",
       "\t\t\tUS.NEW.10.BH2, US.OGNE.00.BHZ, US.OGNE.00.BH1, US.OGNE.00.BH2, \n",
       "\t\t\tUS.SDCO.00.BHZ, US.SDCO.00.BH1, US.SDCO.00.BH2, US.TPNV.00.BHZ, \n",
       "\t\t\tUS.TPNV.00.BH1, US.TPNV.00.BH2, US.WUAZ.00.BHZ, US.WUAZ.00.BH1, \n",
       "\t\t\tUS.WUAZ.00.BH2, US.WVOR.00.BHZ, US.WVOR.00.BH1, US.WVOR.00.BH2, \n",
       "\t\t\tUU.SRU.01.BHZ, UU.SRU.01.BHN, UU.SRU.01.BHE, UW.BLOW..BHZ, \n",
       "\t\t\tUW.BLOW..BHN, UW.BLOW..BHE, UW.BRAN..BHZ, UW.BRAN..BHN, \n",
       "\t\t\tUW.BRAN..BHE, UW.DAVN..BHZ, UW.DAVN..BHN, UW.DAVN..BHE, \n",
       "\t\t\tUW.HOOD..BHZ, UW.HOOD..BHN, UW.HOOD..BHE, UW.LON..BHZ, UW.LON..BHN\n",
       "\t\t\tUW.LON..BHE, UW.LTY..BHZ, UW.LTY..BHN, UW.LTY..BHE, UW.OMAK..BHZ\n",
       "\t\t\tUW.OMAK..BHN, UW.OMAK..BHE, UW.TUCA..BHZ, UW.TUCA..BHN, \n",
       "\t\t\tUW.TUCA..BHE, UW.WOLL..BHZ, UW.WOLL..BHN, UW.WOLL..BHE, \n",
       "\t\t\tX2.CRAT..BHZ, X2.CRAT..BHN, X2.CRAT..BHE, X2.HOWY..BHZ, \n",
       "\t\t\tX2.HOWY..BHN, X2.HOWY..BHE, X2.ONIL..BHZ, X2.ONIL..BHN, \n",
       "\t\t\tX2.ONIL..BHE, X2.RICH..BHZ, X2.RICH..BHN, X2.RICH..BHE, \n",
       "\t\t\tX2.SCRD..BHZ, X2.SCRD..BHN, X2.SCRD..BHE, X2.SSET..BHZ, \n",
       "\t\t\tX2.SSET..BHN, X2.SSET..BHE, X2.TTOP..BHZ, X2.TTOP..BHN, \n",
       "\t\t\tX2.TTOP..BHE, Y5.CLA..BHZ, Y5.CLA..BHN, Y5.CLA..BHE, Y5.CZA..BHZ, \n",
       "\t\t\tY5.CZA..BHN, Y5.CZA..BHE, Y5.LYA..BHZ, Y5.LYA..BHN, Y5.LYA..BHE, \n",
       "\t\t\tY5.MHB..BHZ, Y5.MHB..BHN, Y5.MHB..BHE, Y5.RDR..BHZ, Y5.RDR..BHN, \n",
       "\t\t\tY5.RDR..BHE, Y5.WALA..BHZ, Y5.WALA..BHN, Y5.WALA..BHE"
      ]
     },
     "execution_count": 8,
     "metadata": {},
     "output_type": "execute_result"
    }
   ],
   "source": [
    "inventory"
   ]
  },
  {
   "cell_type": "markdown",
   "metadata": {
    "colab_type": "text",
    "id": "Bh_9MwzPiYWm"
   },
   "source": [
    "#### plot a station map if you want to"
   ]
  },
  {
   "cell_type": "code",
   "execution_count": 9,
   "metadata": {
    "colab": {},
    "colab_type": "code",
    "id": "-lwssKriiYWn",
    "scrolled": false
   },
   "outputs": [
    {
     "name": "stderr",
     "output_type": "stream",
     "text": [
      "/Users/23brianc/anaconda3/lib/python3.7/site-packages/obspy/imaging/maps.py:46: UserWarning: basemap/pyproj with proj4 version >= 5 has a bug that results in inverted map axes. Your maps may be wrong. Please use another version of proj4, or use cartopy. See https://github.com/matplotlib/basemap/issues/443\n",
      "  warnings.warn(msg)\n"
     ]
    },
    {
     "data": {
      "image/png": "[encoded data removed]",
      "text/plain": [
       "<Figure size 432x288 with 1 Axes>"
      ]
     },
     "metadata": {},
     "output_type": "display_data"
    }
   ],
   "source": [
    "stn_map = inventory.plot(projection=\"local\",show=False)"
   ]
  },
  {
   "cell_type": "markdown",
   "metadata": {
    "colab_type": "text",
    "id": "IhzbQkQViYWr"
   },
   "source": [
    "# Let the computer know the event"
   ]
  },
  {
   "cell_type": "code",
   "execution_count": 10,
   "metadata": {
    "colab": {},
    "colab_type": "code",
    "id": "k33rA-mjiYWs"
   },
   "outputs": [],
   "source": [
    "event_search_max_radius = kilometer2degrees(200) #in km"
   ]
  },
  {
   "cell_type": "code",
   "execution_count": 11,
   "metadata": {
    "colab": {},
    "colab_type": "code",
    "id": "xtvFnrzliYWu"
   },
   "outputs": [
    {
     "name": "stdout",
     "output_type": "stream",
     "text": [
      "1 Event(s) in Catalog:\n",
      "2013-09-21T13:16:32.880000Z | +42.984, -109.038 | 4.8 MW\n"
     ]
    }
   ],
   "source": [
    "catalogue = client.get_events(starttime=starttime,endtime=endtime,latitude=evla,longitude=evlo,\n",
    "                              maxradius=event_search_max_radius, minmagnitude=4.7,mindepth=60) # ***CHANGE THIS*** mindepth, minmag\n",
    "print(catalogue)"
   ]
  },
  {
   "cell_type": "markdown",
   "metadata": {
    "colab_type": "text",
    "id": "aHEimGSViYWx"
   },
   "source": [
    "#### Get event information"
   ]
  },
  {
   "cell_type": "code",
   "execution_count": 12,
   "metadata": {
    "colab": {},
    "colab_type": "code",
    "id": "uvdErPcjiYWx"
   },
   "outputs": [],
   "source": [
    "event_info = catalogue.events[0].origins[0]\n",
    "origin_time = event_info.time\n",
    "evlo = event_info.longitude\n",
    "evla = event_info.latitude\n",
    "evdp = event_info.depth\n",
    "\n",
    "yr = origin_time.year\n",
    "jd = origin_time.julday\n",
    "hr = origin_time.hour\n",
    "mins = origin_time.minute\n",
    "sec = origin_time.second\n",
    "msec = origin_time.microsecond\n",
    "\n",
    "# convert event depth to km if necessary\n",
    "if evdp > 1000:\n",
    "    evdp = evdp / 1000"
   ]
  },
  {
   "cell_type": "code",
   "execution_count": 16,
   "metadata": {},
   "outputs": [
    {
     "name": "stdout",
     "output_type": "stream",
     "text": [
      "Event:\t2013-09-21T13:16:32.880000Z | +42.984, -109.038 | 4.8 MW\n",
      "\n",
      "\t            resource_id: ResourceIdentifier(id=\"smi:service.iris.edu/fdsnws/event/1/query?eventid=9219321\")\n",
      "\t             event_type: 'earthquake'\n",
      "\t    preferred_origin_id: ResourceIdentifier(id=\"smi:service.iris.edu/fdsnws/event/1/query?originid=12138278\")\n",
      "\t preferred_magnitude_id: ResourceIdentifier(id=\"smi:service.iris.edu/fdsnws/event/1/query?magnitudeid=201984055\")\n",
      "\t                   ---------\n",
      "\t     event_descriptions: 1 Elements\n",
      "\t                origins: 1 Elements\n",
      "\t             magnitudes: 1 Elements\n"
     ]
    }
   ],
   "source": [
    "print(catalogue.events[0])"
   ]
  },
  {
   "cell_type": "code",
   "execution_count": 28,
   "metadata": {},
   "outputs": [],
   "source": [
    "%store -r common_stations\n",
    "\n",
    "origin_to_p_deep = []\n",
    "\n",
    "for net in inventory[:]:\n",
    "    for stn in net[:]:\n",
    "        stla = stn.latitude\n",
    "        stlo = stn.longitude\n",
    "        geo = gps2dist_azimuth(stla,stlo,evla,evlo)\n",
    "        epi_dist = geo[0]/1000   #in km\n",
    "        baz = geo[1]\n",
    "        gcarc = kilometer2degrees(epi_dist) # convert arc length to angle\n",
    "        \n",
    "        arrival = model.get_travel_times(source_depth_in_km=evdp, distance_in_degree=gcarc, phase_list=['P','p'])\n",
    "        P_arrival_time_at_stn = origin_time + arrival[0].time  #Only works when the UTCDateTime is first\n",
    "        seconds_before_P = P_arrival_time_at_stn - 120\n",
    "        seconds_after_P = P_arrival_time_at_stn + 1000\n",
    "        \n",
    "        for temp in common_stations:\n",
    "                if temp[\"stnm\"] == (net.code+\".\"+stn.code):\n",
    "                    origin_to_p_deep.append(arrival[0].time)\n",
    "                    "
   ]
  },
  {
   "cell_type": "code",
   "execution_count": 29,
   "metadata": {},
   "outputs": [
    {
     "name": "stdout",
     "output_type": "stream",
     "text": [
      "Stored 'origin_to_p_deep' (list)\n"
     ]
    }
   ],
   "source": [
    "%store origin_to_p_deep"
   ]
  },
  {
   "cell_type": "markdown",
   "metadata": {
    "colab_type": "text",
    "id": "txdDaqybiYW0"
   },
   "source": [
    "#### Plot a station-event map if you want to (not working now)"
   ]
  },
  {
   "cell_type": "code",
   "execution_count": 19,
   "metadata": {
    "colab": {},
    "colab_type": "code",
    "id": "RNAZEnagiYW0"
   },
   "outputs": [
    {
     "data": {
      "text/plain": [
       "<Figure size 432x288 with 0 Axes>"
      ]
     },
     "metadata": {},
     "output_type": "display_data"
    }
   ],
   "source": [
    "catalogue.plot(fig=stn_map);"
   ]
  },
  {
   "cell_type": "markdown",
   "metadata": {
    "colab_type": "text",
    "id": "X9P9P6vjiYW3"
   },
   "source": [
    "# Loop over each station in each network to request data"
   ]
  },
  {
   "cell_type": "code",
   "execution_count": 27,
   "metadata": {
    "colab": {},
    "colab_type": "code",
    "id": "oyGyNGpoiYW4"
   },
   "outputs": [
    {
     "name": "stdout",
     "output_type": "stream",
     "text": [
      "2013-09-21T13:17:24.317502Z\n",
      "Found 3 traces for station 2G.IUGFS\n",
      "2013-09-21T13:18:12.806297Z\n",
      "Found 3 traces for station AE.U15A\n",
      "2013-09-21T13:18:36.310010Z\n",
      "Found 3 traces for station AE.W13A\n",
      "2013-09-21T13:18:24.588207Z\n",
      "No Data for station AE.W18A !!\n",
      "2013-09-21T13:18:36.642248Z\n",
      "Found 3 traces for station AE.X16A\n",
      "2013-09-21T13:18:32.760478Z\n",
      "Found 3 traces for station AE.X18A\n",
      "2013-09-21T13:18:47.473244Z\n",
      "Found 3 traces for station AE.Y14A\n",
      "2013-09-21T13:18:52.943084Z\n",
      "Found 3 traces for station BK.CMB\n",
      "2013-09-21T13:18:46.949198Z\n",
      "No Data for station BK.HATC !!\n",
      "2013-09-21T13:18:52.572055Z\n",
      "No Data for station BK.HELL !!\n",
      "2013-09-21T13:18:49.311809Z\n",
      "No Data for station BK.KCC !!\n",
      "2013-09-21T13:18:31.767754Z\n",
      "No Data for station BK.MOD !!\n",
      "2013-09-21T13:18:40.160305Z\n",
      "Found 3 traces for station CC.ASBU\n",
      "2013-09-21T13:18:37.974421Z\n",
      "Found 3 traces for station CC.CIHL\n",
      "2013-09-21T13:18:38.806002Z\n",
      "Found 3 traces for station CC.CPCO\n",
      "2013-09-21T13:18:39.000992Z\n",
      "Found 3 traces for station CC.NORM\n",
      "2013-09-21T13:18:51.746214Z\n",
      "Found 3 traces for station CC.OBSR\n",
      "2013-09-21T13:18:50.038561Z\n",
      "Found 3 traces for station CC.PANH\n",
      "2013-09-21T13:18:46.188978Z\n",
      "Found 3 traces for station CC.PRLK\n",
      "2013-09-21T13:18:52.864399Z\n",
      "Found 3 traces for station CC.STD\n",
      "2013-09-21T13:18:52.598677Z\n",
      "Found 3 traces for station CC.SWF2\n",
      "2013-09-21T13:18:40.010649Z\n",
      "Found 3 traces for station CC.SWNB\n",
      "2013-09-21T13:18:43.292967Z\n",
      "Found 3 traces for station CC.TCBU\n",
      "2013-09-21T13:18:37.923183Z\n",
      "Found 6 traces for station CC.TMBU\n",
      "2013-09-21T13:18:52.465498Z\n",
      "Found 3 traces for station CC.VALT\n",
      "2013-09-21T13:18:44.674053Z\n",
      "Found 3 traces for station CC.WIFE\n",
      "2013-09-21T13:18:51.586406Z\n",
      "No Data for station CI.CCC !!\n",
      "2013-09-21T13:18:44.231220Z\n",
      "No Data for station CI.CGO !!\n",
      "2013-09-21T13:18:50.160086Z\n",
      "No Data for station CI.CLC !!\n",
      "2013-09-21T13:18:47.438308Z\n",
      "Found 3 traces for station CI.CWC\n",
      "2013-09-21T13:18:49.363813Z\n",
      "Found 3 traces for station CI.DAN\n",
      "2013-09-21T13:18:47.617134Z\n",
      "No Data for station CI.DSC !!\n",
      "2013-09-21T13:18:38.153422Z\n",
      "Found 3 traces for station CI.FUR\n",
      "2013-09-21T13:18:49.164490Z\n",
      "Found 3 traces for station CI.GMR\n",
      "2013-09-21T13:18:36.541739Z\n",
      "Found 3 traces for station CI.GRA\n",
      "2013-09-21T13:18:50.253332Z\n",
      "Found 3 traces for station CI.GSC\n",
      "2013-09-21T13:18:52.600709Z\n",
      "Found 3 traces for station CI.HEC\n",
      "2013-09-21T13:18:49.970788Z\n",
      "No Data for station CI.JRC2 !!\n",
      "2013-09-21T13:18:42.424785Z\n",
      "No Data for station CI.LDF !!\n",
      "2013-09-21T13:18:42.614421Z\n",
      "Found 3 traces for station CI.MLAC\n",
      "2013-09-21T13:18:46.871833Z\n",
      "Found 3 traces for station CI.MPM\n",
      "2013-09-21T13:18:40.392645Z\n",
      "No Data for station CI.MTP !!\n",
      "2013-09-21T13:18:43.832455Z\n",
      "Found 3 traces for station CI.NEE2\n",
      "2013-09-21T13:18:47.325324Z\n",
      "Found 3 traces for station CI.PDM\n",
      "2013-09-21T13:18:40.204195Z\n",
      "Found 3 traces for station CI.SHO\n",
      "2013-09-21T13:18:47.144547Z\n",
      "Found 3 traces for station CI.SLA\n",
      "2013-09-21T13:18:42.744016Z\n",
      "Found 3 traces for station CI.TIN\n",
      "2013-09-21T13:18:43.175159Z\n",
      "Found 3 traces for station CI.TUQ\n",
      "2013-09-21T13:18:49.415629Z\n",
      "Found 3 traces for station CN.PNT\n",
      "2013-09-21T13:18:12.038301Z\n",
      "Found 3 traces for station CN.WALA\n",
      "2013-09-21T13:18:30.048608Z\n",
      "Found 2 traces for station II.IASL\n",
      "2013-09-21T13:18:30.145058Z\n",
      "Found 3 traces for station IM.NV31\n"
     ]
    },
    {
     "name": "stderr",
     "output_type": "stream",
     "text": [
      "/Users/23brianc/anaconda3/lib/python3.7/site-packages/obspy/core/inventory/response.py:964: UserWarning: Input sampling rate of stage 3 is inconsistent with the previous stages' output sampling rate\n",
      "  warnings.warn(msg % i)\n"
     ]
    },
    {
     "name": "stdout",
     "output_type": "stream",
     "text": [
      "2013-09-21T13:18:30.051186Z\n",
      "Found 6 traces for station IU.ANMO\n",
      "2013-09-21T13:17:29.115770Z\n",
      "Found 6 traces for station IU.RSSD\n",
      "2013-09-21T13:17:24.817230Z\n",
      "Found 3 traces for station IW.DLMT\n",
      "2013-09-21T13:17:45.100578Z\n",
      "Found 3 traces for station IW.MFID\n",
      "2013-09-21T13:17:20.139243Z\n",
      "Found 3 traces for station IW.PHWY\n",
      "2013-09-21T13:17:51.361280Z\n",
      "Found 3 traces for station IW.PLID\n",
      "2013-09-21T13:17:33.221719Z\n",
      "Found 3 traces for station IW.SMCO\n",
      "2013-09-21T13:18:07.636706Z\n",
      "Found 3 traces for station LB.BMN\n",
      "2013-09-21T13:18:45.396816Z\n",
      "Found 3 traces for station LB.DAC\n",
      "2013-09-21T13:17:46.490044Z\n",
      "No Data for station LB.MVU !!\n",
      "2013-09-21T13:18:25.326591Z\n",
      "No Data for station LB.TPH !!\n",
      "2013-09-21T13:18:28.553239Z\n",
      "No Data for station LI.LTH !!\n",
      "2013-09-21T13:17:59.333973Z\n",
      "Found 3 traces for station MB.JTMT\n",
      "2013-09-21T13:18:40.647552Z\n",
      "No Data for station PI.EP00 !!\n",
      "2013-09-21T13:18:40.647573Z\n",
      "No Data for station PI.EP01 !!\n",
      "2013-09-21T13:18:40.647573Z\n",
      "No Data for station PI.EP02 !!\n",
      "2013-09-21T13:18:40.647573Z\n",
      "No Data for station PI.EP03 !!\n",
      "2013-09-21T13:18:40.647573Z\n",
      "No Data for station PI.EP04 !!\n",
      "2013-09-21T13:18:40.638741Z\n",
      "No Data for station PI.NP02 !!\n",
      "2013-09-21T13:18:40.638741Z\n",
      "No Data for station PI.SP00 !!\n",
      "2013-09-21T13:18:40.645820Z\n",
      "No Data for station PI.SP01 !!\n",
      "2013-09-21T13:18:40.645820Z\n",
      "No Data for station PI.SP02 !!\n",
      "2013-09-21T13:18:40.645820Z\n",
      "No Data for station PI.SP03 !!\n",
      "2013-09-21T13:18:40.645820Z\n",
      "No Data for station PI.SP04 !!\n",
      "2013-09-21T13:18:40.645820Z\n",
      "No Data for station PI.SP05 !!\n",
      "2013-09-21T13:18:40.645820Z\n",
      "No Data for station PI.SP06 !!\n",
      "2013-09-21T13:18:40.645820Z\n",
      "No Data for station PI.SP07 !!\n",
      "2013-09-21T13:18:40.645820Z\n",
      "No Data for station PI.SP08 !!\n",
      "2013-09-21T13:18:40.645820Z\n",
      "No Data for station PI.SP09 !!\n",
      "2013-09-21T13:18:40.647552Z\n",
      "No Data for station PI.WP00 !!\n",
      "2013-09-21T13:18:40.647573Z\n",
      "No Data for station PI.WP01 !!\n",
      "2013-09-21T13:18:40.647573Z\n",
      "No Data for station PI.WP02 !!\n",
      "2013-09-21T13:18:40.647573Z\n",
      "No Data for station PI.WP03 !!\n",
      "2013-09-21T13:18:40.647573Z\n",
      "No Data for station PI.WP04 !!\n",
      "2013-09-21T13:18:27.722368Z\n",
      "No Data for station PN.PPABQ !!\n",
      "2013-09-21T13:17:36.227208Z\n",
      "No Data for station PN.PPCSM !!\n",
      "2013-09-21T13:17:58.435802Z\n",
      "No Data for station PN.PPIGN !!\n",
      "2013-09-21T13:18:18.816741Z\n",
      "No Data for station PN.PPREH !!\n",
      "2013-09-21T13:17:29.276570Z\n",
      "No Data for station PN.PPRMH !!\n",
      "2013-09-21T13:18:19.254249Z\n",
      "No Data for station PN.PPSPR !!\n",
      "2013-09-21T13:18:35.479194Z\n",
      "No Data for station PN.PPSTJ !!\n",
      "2013-09-21T13:18:25.303178Z\n",
      "No Data for station PN.PPUHS !!\n",
      "2013-09-21T13:17:36.629314Z\n",
      "No Data for station PN.PPWES !!\n",
      "2013-09-21T13:18:27.006631Z\n",
      "No Data for station PN.PPWHS !!\n",
      "2013-09-21T13:18:41.109933Z\n",
      "No Data for station SC.SRGE !!\n",
      "2013-09-21T13:18:42.387802Z\n",
      "Found 3 traces for station SC.Y22A\n",
      "2013-09-21T13:18:29.512729Z\n",
      "Found 3 traces for station TA.BGNE\n",
      "2013-09-21T13:18:49.205101Z\n",
      "Found 3 traces for station TA.C06D\n",
      "2013-09-21T13:18:44.662075Z\n",
      "Found 3 traces for station TA.F05D\n",
      "2013-09-21T13:18:41.525746Z\n",
      "Found 3 traces for station TA.G05D\n",
      "2013-09-21T13:18:50.451597Z\n",
      "Found 3 traces for station TA.I04A\n",
      "2013-09-21T13:18:40.208283Z\n",
      "Found 3 traces for station TA.I05D\n",
      "2013-09-21T13:18:47.642465Z\n",
      "Found 3 traces for station TA.J04D\n",
      "2013-09-21T13:18:38.911147Z\n",
      "Found 3 traces for station TA.J05D\n",
      "2013-09-21T13:18:44.782906Z\n",
      "Found 3 traces for station TA.K04D\n",
      "2013-09-21T13:18:02.623954Z\n",
      "Found 3 traces for station TA.KSCO\n",
      "2013-09-21T13:18:51.043132Z\n",
      "Found 3 traces for station TA.L04D\n",
      "2013-09-21T13:18:47.442115Z\n",
      "Found 3 traces for station TA.M04C\n",
      "2013-09-21T13:18:29.349920Z\n",
      "Found 3 traces for station TA.MDND\n",
      "2013-09-21T13:17:19.643831Z\n",
      "Found 3 traces for station TA.N23A\n",
      "2013-09-21T13:18:52.569937Z\n",
      "Found 3 traces for station TA.O03E\n",
      "2013-09-21T13:17:16.891582Z\n",
      "Found 3 traces for station TA.O20A\n",
      "2013-09-21T13:17:45.060551Z\n",
      "Found 3 traces for station TA.Q24A\n",
      "2013-09-21T13:18:09.871545Z\n",
      "Found 3 traces for station TA.R11A\n",
      "2013-09-21T13:17:52.138028Z\n",
      "Found 3 traces for station TA.S22A\n",
      "2013-09-21T13:18:18.771160Z\n",
      "Found 3 traces for station TA.SUSD\n",
      "2013-09-21T13:18:10.347852Z\n",
      "Found 3 traces for station TA.T25A\n",
      "2013-09-21T13:18:24.588223Z\n",
      "Found 3 traces for station TA.W18A\n",
      "2013-09-21T13:18:40.636188Z\n",
      "Found 3 traces for station TA.Y22D\n",
      "2013-09-21T13:18:35.929443Z\n",
      "Found 3 traces for station UO.PINE\n",
      "2013-09-21T13:18:02.485666Z\n",
      "Found 3 traces for station US.BMO\n",
      "2013-09-21T13:17:20.924366Z\n",
      "Found 3 traces for station US.BOZ\n",
      "2013-09-21T13:18:28.780920Z\n",
      "Found 3 traces for station US.CBKS\n",
      "2013-09-21T13:18:05.079071Z\n",
      "Found 6 traces for station US.DGMT\n",
      "2013-09-21T13:17:31.341529Z\n",
      "Found 3 traces for station US.DUG\n",
      "2013-09-21T13:18:41.068626Z\n",
      "Found 6 traces for station US.ECSD\n",
      "2013-09-21T13:17:46.222331Z\n",
      "Found 3 traces for station US.EGMT\n",
      "2013-09-21T13:17:47.285532Z\n",
      "No Data for station US.ELK !!\n",
      "2013-09-21T13:18:29.226302Z\n",
      "Found 3 traces for station US.HAWA\n",
      "2013-09-21T13:17:31.274437Z\n",
      "No Data for station US.HLID !!\n",
      "2013-09-21T13:17:32.990258Z\n",
      "Found 3 traces for station US.ISCO\n",
      "2013-09-21T13:17:34.566503Z\n",
      "Found 3 traces for station US.LAO\n",
      "2013-09-21T13:17:47.875643Z\n",
      "Found 3 traces for station US.MSO\n",
      "2013-09-21T13:17:56.177118Z\n",
      "Found 3 traces for station US.MVCO\n",
      "2013-09-21T13:18:22.758861Z\n",
      "Found 6 traces for station US.NEW\n",
      "2013-09-21T13:17:53.605513Z\n",
      "Found 3 traces for station US.OGNE\n",
      "2013-09-21T13:17:57.472081Z\n",
      "Found 3 traces for station US.SDCO\n",
      "2013-09-21T13:18:28.794107Z\n",
      "Found 3 traces for station US.TPNV\n",
      "2013-09-21T13:18:21.855492Z\n",
      "Found 3 traces for station US.WUAZ\n",
      "2013-09-21T13:18:13.899395Z\n",
      "Found 3 traces for station US.WVOR\n",
      "2013-09-21T13:17:32.119366Z\n",
      "Found 3 traces for station UU.SRU\n",
      "2013-09-21T13:18:48.842939Z\n",
      "Found 3 traces for station UW.BLOW\n",
      "2013-09-21T13:18:06.841474Z\n",
      "Found 3 traces for station UW.BRAN\n",
      "2013-09-21T13:18:27.462224Z\n",
      "Found 3 traces for station UW.DAVN\n",
      "2013-09-21T13:18:44.883815Z\n",
      "Found 3 traces for station UW.HOOD\n",
      "2013-09-21T13:18:51.056174Z\n",
      "No Data for station UW.LON !!\n",
      "2013-09-21T13:18:43.476772Z\n",
      "Found 3 traces for station UW.LTY\n",
      "2013-09-21T13:18:39.732517Z\n",
      "Found 3 traces for station UW.OMAK\n",
      "2013-09-21T13:18:17.822295Z\n",
      "Found 3 traces for station UW.TUCA\n",
      "2013-09-21T13:18:27.606007Z\n",
      "Found 3 traces for station UW.WOLL\n",
      "2013-09-21T13:18:24.360258Z\n",
      "Found 3 traces for station X2.CRAT\n",
      "2013-09-21T13:18:24.605721Z\n",
      "No Data for station X2.HOWY !!\n",
      "2013-09-21T13:18:25.620735Z\n",
      "No Data for station X2.ONIL !!\n",
      "2013-09-21T13:18:23.315205Z\n",
      "Found 3 traces for station X2.RICH\n",
      "2013-09-21T13:18:23.174861Z\n",
      "Found 3 traces for station X2.SCRD\n",
      "2013-09-21T13:18:23.997769Z\n",
      "Found 3 traces for station X2.SSET\n",
      "2013-09-21T13:18:26.041194Z\n",
      "Found 3 traces for station X2.TTOP\n",
      "2013-09-21T13:18:21.845507Z\n",
      "No Data for station Y5.CLA !!\n",
      "2013-09-21T13:18:47.936481Z\n",
      "No Data for station Y5.CZA !!\n",
      "2013-09-21T13:18:36.057225Z\n",
      "No Data for station Y5.LYA !!\n",
      "2013-09-21T13:18:17.784731Z\n",
      "No Data for station Y5.MHB !!\n",
      "2013-09-21T13:18:50.422981Z\n",
      "No Data for station Y5.RDR !!\n",
      "2013-09-21T13:18:11.998704Z\n",
      "No Data for station Y5.WALA !!\n"
     ]
    }
   ],
   "source": [
    "for net in inventory[:]:\n",
    "    for stn in net[:]:\n",
    "        stla = stn.latitude\n",
    "        stlo = stn.longitude\n",
    "        geo = gps2dist_azimuth(stla,stlo,evla,evlo)\n",
    "        epi_dist = geo[0]/1000   #in km\n",
    "        baz = geo[1]\n",
    "        gcarc = kilometer2degrees(epi_dist) # convert arc length to angle\n",
    "        \n",
    "        arrival = model.get_travel_times(source_depth_in_km=evdp, distance_in_degree=gcarc, phase_list=['P','p'])\n",
    "        P_arrival_time_at_stn = origin_time + arrival[0].time  #Only works when the UTCDateTime is first\n",
    "        seconds_before_P = P_arrival_time_at_stn - 120\n",
    "        seconds_after_P = P_arrival_time_at_stn + 1000\n",
    "        print(P_arrival_time_at_stn)\n",
    "        \n",
    "        try:\n",
    "            stream = client.get_waveforms(net.code,stn.code,'*','BH*',seconds_before_P,seconds_after_P,\n",
    "                               attach_response=True)\n",
    "        except:\n",
    "            print('No Data'+' for station '+net.code+'.'+stn.code+' !!')\n",
    "            continue\n",
    "\n",
    "        number_of_traces = len(stream)\n",
    "        number_of_locs = int(len(stream)/3)\n",
    "        print('Found '+str(number_of_traces)+' traces for station '+net.code+'.'+stn.code)\n",
    "        \n",
    "        # remove mean, linear trend and instrument response\n",
    "        try:\n",
    "            corrected_stream = detrend_and_remove_response(stream,prefilt);\n",
    "        except Exception as e:\n",
    "            print('Cannot correct for station '+net.code+'.'+stn.code+' !!'+' due to ', e)\n",
    "            continue\n",
    "        \n",
    "        # write raw data\n",
    "        for tr in stream:\n",
    "            loc = tr.stats.location\n",
    "            chan = tr.stats.channel\n",
    "            sacnm = raw_directory+'/'+net.code+'.'+stn.code+'.'+str(loc)+'.'+str(yr)+'-'+str(jd).zfill(3)+'-'+str(hr).zfill(2)+'-'+str(mins).zfill(2)+'-'+str(sec).zfill(2)+'.'+chan+'.SAC'\n",
    "            sac = SACTrace.from_obspy_trace(tr)\n",
    "            sac.gcarc = gcarc\n",
    "            sac.baz = baz\n",
    "            sac.evlo = evlo\n",
    "            sac.evla = evla\n",
    "            sac.stlo = stlo\n",
    "            sac.stla = stla\n",
    "            sac.evdp = evdp\n",
    "            sac.a = P_arrival_time_at_stn\n",
    "            sac.o = origin_time\n",
    "            sac.write(sacnm)\n",
    "        \n",
    "        # write corrected data\n",
    "        for tr in corrected_stream:\n",
    "            loc = tr.stats.location\n",
    "            chan = tr.stats.channel\n",
    "            sacnm = corrected_directory+'/'+net.code+'.'+stn.code+'.'+str(loc)+'.'+str(yr)+'-'+str(jd).zfill(3)+'-'+str(hr).zfill(2)+'-'+str(mins).zfill(2)+'-'+str(sec).zfill(2)+'.'+chan+'.SAC'\n",
    "            sac = SACTrace.from_obspy_trace(tr)\n",
    "            sac.gcarc = gcarc\n",
    "            sac.baz = baz\n",
    "            sac.evlo = evlo\n",
    "            sac.evla = evla\n",
    "            sac.stlo = stlo\n",
    "            sac.stla = stla\n",
    "            sac.evdp = evdp\n",
    "            sac.a = P_arrival_time_at_stn\n",
    "            sac.o = origin_time\n",
    "            sac.write(sacnm)"
   ]
  },
  {
   "cell_type": "code",
   "execution_count": 21,
   "metadata": {},
   "outputs": [
    {
     "data": {
      "text/plain": [
       "obspy.core.utcdatetime.UTCDateTime"
      ]
     },
     "execution_count": 21,
     "metadata": {},
     "output_type": "execute_result"
    }
   ],
   "source": [
    "type(seconds_before_P)"
   ]
  },
  {
   "cell_type": "markdown",
   "metadata": {
    "colab_type": "text",
    "id": "sJkuhF7BiYW7"
   },
   "source": [
    "### Quick preview of downloaded data"
   ]
  },
  {
   "cell_type": "code",
   "execution_count": 32,
   "metadata": {
    "colab": {},
    "colab_type": "code",
    "id": "Hi0M2aiTiYW7"
   },
   "outputs": [],
   "source": [
    "raw_st = read(raw_directory+'*')\n",
    "corrected_st = read(corrected_directory+'*')"
   ]
  },
  {
   "cell_type": "code",
   "execution_count": 33,
   "metadata": {
    "colab": {},
    "colab_type": "code",
    "id": "oDBDhTmLiYW_"
   },
   "outputs": [
    {
     "data": {
      "image/png": "[encoded data removed]",
      "text/plain": [
       "<Figure size 800x250 with 1 Axes>"
      ]
     },
     "metadata": {
      "needs_background": "light"
     },
     "output_type": "display_data"
    },
    {
     "data": {
      "image/png": "[encoded data removed]",
      "text/plain": [
       "<Figure size 800x250 with 1 Axes>"
      ]
     },
     "metadata": {
      "needs_background": "light"
     },
     "output_type": "display_data"
    }
   ],
   "source": [
    "index = 0\n",
    "\n",
    "raw_st[index].plot();\n",
    "corrected_st[index].plot();"
   ]
  },
  {
   "cell_type": "markdown",
   "metadata": {
    "colab_type": "text",
    "id": "LZEhKQOViYXD"
   },
   "source": [
    "# Play around with individual case"
   ]
  },
  {
   "cell_type": "code",
   "execution_count": 49,
   "metadata": {
    "colab": {},
    "colab_type": "code",
    "id": "8SLhB7ABiYXD"
   },
   "outputs": [],
   "source": [
    "stn = inventory[6][40]\n",
    "stla = stn.latitude\n",
    "stlo = stn.longitude\n",
    "geo = gps2dist_azimuth(stla,stlo,evla,evlo)\n",
    "epi_dist = geo[0]/1000. #in km\n",
    "baz = geo[1]\n",
    "gcarc = kilometer2degrees(epi_dist) # convert arc length to angle"
   ]
  },
  {
   "cell_type": "code",
   "execution_count": 50,
   "metadata": {
    "colab": {},
    "colab_type": "code",
    "id": "sIO9V8WZiYXG"
   },
   "outputs": [],
   "source": [
    "model = TauPyModel(model='ak135')\n",
    "arrival = model.get_travel_times(source_depth_in_km=evdp, distance_in_degree=gcarc, phase_list=['P','p'])"
   ]
  },
  {
   "cell_type": "code",
   "execution_count": 51,
   "metadata": {
    "colab": {},
    "colab_type": "code",
    "id": "czdxPE8PiYXJ"
   },
   "outputs": [],
   "source": [
    "P_arrival_time_at_stn = origin_time + arrival[0].time  #Only works when the UTCDateTime is first\n",
    "seconds_before_P = P_arrival_time_at_stn - 1000\n",
    "seconds_after_P = P_arrival_time_at_stn + 2000"
   ]
  },
  {
   "cell_type": "code",
   "execution_count": 52,
   "metadata": {
    "colab": {},
    "colab_type": "code",
    "id": "jamR-HhniYXT"
   },
   "outputs": [
    {
     "name": "stdout",
     "output_type": "stream",
     "text": [
      "No Data!\n"
     ]
    },
    {
     "ename": "NameError",
     "evalue": "name 'data' is not defined",
     "output_type": "error",
     "traceback": [
      "\u001b[0;31m---------------------------------------------------------------------------\u001b[0m",
      "\u001b[0;31mNameError\u001b[0m                                 Traceback (most recent call last)",
      "\u001b[0;32m<ipython-input-52-eb15736ef7b6>\u001b[0m in \u001b[0;36m<module>\u001b[0;34m\u001b[0m\n\u001b[1;32m      5\u001b[0m     \u001b[0mprint\u001b[0m\u001b[0;34m(\u001b[0m\u001b[0;34m'No Data!'\u001b[0m\u001b[0;34m)\u001b[0m\u001b[0;34m\u001b[0m\u001b[0;34m\u001b[0m\u001b[0m\n\u001b[1;32m      6\u001b[0m \u001b[0;34m\u001b[0m\u001b[0m\n\u001b[0;32m----> 7\u001b[0;31m \u001b[0mnumber_of_traces\u001b[0m \u001b[0;34m=\u001b[0m \u001b[0mlen\u001b[0m\u001b[0;34m(\u001b[0m\u001b[0mdata\u001b[0m\u001b[0;34m)\u001b[0m\u001b[0;34m\u001b[0m\u001b[0;34m\u001b[0m\u001b[0m\n\u001b[0m\u001b[1;32m      8\u001b[0m \u001b[0mnumber_of_locs\u001b[0m \u001b[0;34m=\u001b[0m \u001b[0mint\u001b[0m\u001b[0;34m(\u001b[0m\u001b[0mlen\u001b[0m\u001b[0;34m(\u001b[0m\u001b[0mdata\u001b[0m\u001b[0;34m)\u001b[0m\u001b[0;34m/\u001b[0m\u001b[0;36m3\u001b[0m\u001b[0;34m)\u001b[0m\u001b[0;34m\u001b[0m\u001b[0;34m\u001b[0m\u001b[0m\n\u001b[1;32m      9\u001b[0m \u001b[0mprint\u001b[0m\u001b[0;34m(\u001b[0m\u001b[0;34m'Find '\u001b[0m\u001b[0;34m+\u001b[0m\u001b[0mstr\u001b[0m\u001b[0;34m(\u001b[0m\u001b[0mnumber_of_traces\u001b[0m\u001b[0;34m)\u001b[0m\u001b[0;34m+\u001b[0m\u001b[0;34m' traces for station'\u001b[0m\u001b[0;34m)\u001b[0m\u001b[0;34m\u001b[0m\u001b[0;34m\u001b[0m\u001b[0m\n",
      "\u001b[0;31mNameError\u001b[0m: name 'data' is not defined"
     ]
    }
   ],
   "source": [
    "try:\n",
    "    data = client.get_waveforms('G','WUS','*','BH*',seconds_before_P,seconds_after_P,\n",
    "                               attach_response=True)\n",
    "except:\n",
    "    print('No Data!')\n",
    "\n",
    "number_of_traces = len(data)\n",
    "number_of_locs = int(len(data)/3)\n",
    "print('Find '+str(number_of_traces)+' traces for station')  "
   ]
  },
  {
   "cell_type": "code",
   "execution_count": null,
   "metadata": {
    "colab": {},
    "colab_type": "code",
    "id": "QRlEJiYHiYXV"
   },
   "outputs": [],
   "source": [
    "data.plot();"
   ]
  },
  {
   "cell_type": "code",
   "execution_count": null,
   "metadata": {
    "colab": {},
    "colab_type": "code",
    "id": "3Em16953iYXY"
   },
   "outputs": [],
   "source": [
    "detrend_and_remove_response(data,prefilt);\n",
    "data.plot();"
   ]
  },
  {
   "cell_type": "code",
   "execution_count": null,
   "metadata": {
    "colab": {},
    "colab_type": "code",
    "id": "KTc3rvbniYXc"
   },
   "outputs": [],
   "source": [
    "inventory[-1][61]"
   ]
  },
  {
   "cell_type": "code",
   "execution_count": null,
   "metadata": {
    "colab": {},
    "colab_type": "code",
    "id": "nzliNXdLiYXe"
   },
   "outputs": [],
   "source": []
  }
 ],
 "metadata": {
  "colab": {
   "name": "GetData_1Event_nStations.ipynb",
   "provenance": []
  },
  "kernelspec": {
   "display_name": "Python 3",
   "language": "python",
   "name": "python3"
  },
  "language_info": {
   "codemirror_mode": {
    "name": "ipython",
    "version": 3
   },
   "file_extension": ".py",
   "mimetype": "text/x-python",
   "name": "python",
   "nbconvert_exporter": "python",
   "pygments_lexer": "ipython3",
   "version": "3.7.3"
  }
 },
 "nbformat": 4,
 "nbformat_minor": 1
}
