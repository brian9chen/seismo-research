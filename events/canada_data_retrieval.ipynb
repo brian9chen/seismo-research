{
 "cells": [
  {
   "cell_type": "markdown",
   "metadata": {
    "colab_type": "text",
    "id": "dyYIsbG4iYWS"
   },
   "source": [
    "# Description:\n",
    "Given the rough location of an event, download data for this event for stations meeting a certain epicentral distance criteria."
   ]
  },
  {
   "cell_type": "markdown",
   "metadata": {
    "colab_type": "text",
    "id": "uySnVPcwiYWT"
   },
   "source": [
    "# Setups"
   ]
  },
  {
   "cell_type": "code",
   "execution_count": 1,
   "metadata": {
    "colab": {},
    "colab_type": "code",
    "id": "MpAb964RiYWU"
   },
   "outputs": [],
   "source": [
    "from obspy.clients.fdsn import Client\n",
    "from obspy.core.event import Origin\n",
    "from obspy.geodetics import gps2dist_azimuth, kilometer2degrees\n",
    "from obspy.taup import TauPyModel\n",
    "from obspy.io.sac.sactrace import SACTrace\n",
    "from obspy import read_inventory, UTCDateTime\n",
    "from obspy import read\n",
    "\n",
    "import numpy as np\n",
    "import matplotlib.pyplot as plt\n",
    "plt.ioff()\n",
    "%matplotlib notebook\n",
    "\n",
    "# ***CHANGE THIS*** - things that need to be manually changed for each event"
   ]
  },
  {
   "cell_type": "markdown",
   "metadata": {
    "colab_type": "text",
    "id": "Mj-7NfF4iYWZ"
   },
   "source": [
    "### Choose:"
   ]
  },
  {
   "cell_type": "code",
   "execution_count": 2,
   "metadata": {
    "colab": {},
    "colab_type": "code",
    "id": "LTrkcC2wiYWZ"
   },
   "outputs": [
    {
     "name": "stdout",
     "output_type": "stream",
     "text": [
      "mkdir: /Users/23brianc/Documents/Internship2020/Events/Canada_38/: File exists\r\n"
     ]
    }
   ],
   "source": [
    "# web service client:\n",
    "client = Client(\"IRIS\")\n",
    "\n",
    "# Earth model:\n",
    "model = TauPyModel(model='iasp91')\n",
    "\n",
    "# folder for this event:\n",
    "directory = '/Users/23brianc/Documents/Internship2020/Events/Canada_38/'\n",
    "\n",
    "# directory to download raw data:\n",
    "raw_directory = directory+'raw1/'\n",
    "\n",
    "# directory to store instrument-corrected data:\n",
    "corrected_directory = directory+'corrected1/'\n",
    "\n",
    "%mkdir /Users/23brianc/Documents/Internship2020/Events/Canada_38/\n",
    "%mkdir /Users/23brianc/Documents/Internship2020/Events/Canada_38/raw1/\n",
    "%mkdir /Users/23brianc/Documents/Internship2020/Events/Canada_38/corrected1/"
   ]
  },
  {
   "cell_type": "code",
   "execution_count": 3,
   "metadata": {
    "colab": {},
    "colab_type": "code",
    "id": "14S6F5xFiYWd"
   },
   "outputs": [],
   "source": [
    "# pre-filter for removing instrument response:\n",
    "prefilt = (0.05,0.1,10,20)\n",
    "\n",
    "def detrend_and_remove_response(stream,window):\n",
    "    for tr in stream:\n",
    "        tr.detrend(type='constant')  # de-mean\n",
    "        tr.detrend(type='linear')\n",
    "        tr.remove_response(output='VEL',taper = True, taper_fraction = 0.05,pre_filt= window, water_level = 60.0)\n",
    "    return stream"
   ]
  },
  {
   "cell_type": "markdown",
   "metadata": {
    "colab_type": "text",
    "id": "-TVKSQb4iYWg"
   },
   "source": [
    "# Search for stations given an event"
   ]
  },
  {
   "cell_type": "code",
   "execution_count": 4,
   "metadata": {
    "colab": {},
    "colab_type": "code",
    "id": "w79j0V5tiYWg"
   },
   "outputs": [],
   "source": [
    "# search for stations certain distance away from event\n",
    "station_search_lower_range=kilometer2degrees(0)  #in km\n",
    "station_search_upper_range=kilometer2degrees(300)"
   ]
  },
  {
   "cell_type": "code",
   "execution_count": 5,
   "metadata": {
    "colab": {},
    "colab_type": "code",
    "id": "Xc2zMH5XiYWj"
   },
   "outputs": [],
   "source": [
    "# event location: latitude and longitude\n",
    "\n",
    "evla = 49.310 # ***CHANGE THIS***\n",
    "evlo = -112.780 # ***CHANGE THIS***\n",
    "\n",
    "# search timeframe\n",
    "starttime = UTCDateTime(\"2008-01-02T13:16:33\") # ***CHANGE THIS***\n",
    "endtime = UTCDateTime(\"2008-01-04T13:16:33\") # ***CHANGE THIS***\n",
    "\n",
    "# station inventory\n",
    "inventory = client.get_stations(level='response',channel='BH*',starttime=starttime,endtime=endtime,latitude=evla,\n",
    "                               longitude=evlo, minradius=station_search_lower_range,\n",
    "                                maxradius=station_search_upper_range) #network = 'XI'\n",
    "inventory.write(directory+\"inventory.xml\",format='STATIONXML')\n",
    "# inventory[x][y] gives you station y in network x"
   ]
  },
  {
   "cell_type": "code",
   "execution_count": 6,
   "metadata": {},
   "outputs": [
    {
     "data": {
      "text/plain": [
       "Inventory created at 2021-08-19T04:06:05.000000Z\n",
       "\tCreated by: IRIS WEB SERVICE: fdsnws-station | version: 1.1.47\n",
       "\t\t    http://service.iris.edu/fdsnws/station/1/query?starttime=2008-01-02...\n",
       "\tSending institution: IRIS-DMC (IRIS-DMC)\n",
       "\tContains:\n",
       "\t\tNetworks (4):\n",
       "\t\t\tCN, TA, US, Y5\n",
       "\t\tStations (33):\n",
       "\t\t\tCN.WALA (Waterton Lake, AB, CA)\n",
       "\t\t\tTA.A11A (Hall Mountain, Copeland, ID, USA)\n",
       "\t\t\tTA.A12A (Yaak River Ranch, Troy, MT, USA)\n",
       "\t\t\tTA.A13A (Flathead National Forest, Polebridge, MT, USA)\n",
       "\t\t\tTA.A14A (Double T Ranch, Babb, MT, USA)\n",
       "\t\t\tTA.A15A (Johnson Ranch, Cut Bank, MT, USA)\n",
       "\t\t\tTA.A16A (West Butte Ranch, Sweetgrass, MT, USA)\n",
       "\t\t\tTA.A17A (Triple J Farms, Joplin, MT, USA)\n",
       "\t\t\tTA.A18A (Metzger Ranch, Havre, MT, USA)\n",
       "\t\t\tTA.B11A (Sandpoint, ID, USA)\n",
       "\t\t\tTA.B12A (Libby, MT, USA)\n",
       "\t\t\tTA.B13A (Whitefish, MT, USA)\n",
       "\t\t\tTA.B14A (Marquette Ranch, East Glacier, MT, USA)\n",
       "\t\t\tTA.B15A (Bradely Ranch, Valier, MT, USA)\n",
       "\t\t\tTA.B16A (M & M Farms, Shelby, MT, USA)\n",
       "\t\t\tTA.B17A (L&G Farms, Chester, MT, USA)\n",
       "\t\t\tTA.B18A (Beardsley Farm, Havre, MT, USA)\n",
       "\t\t\tTA.C12B (Naegeli Ranch, Trout Creek, MT, USA)\n",
       "\t\t\tTA.C13A (Hot Springs, MT, USA)\n",
       "\t\t\tTA.C14A (Swan Lake, MT, USA)\n",
       "\t\t\tTA.C15A (Salmond Ranch, Choteau, MT, USA)\n",
       "\t\t\tTA.C16A (Fuhringer Ranch, Dutton, MT, USA)\n",
       "\t\t\tTA.C17A (Wharram Farm, Highwood, MT, USA)\n",
       "\t\t\tTA.D13A (Huson, MT, USA)\n",
       "\t\t\tTA.D14A (Greenough, MT, USA)\n",
       "\t\t\tTA.D15A (Lincoln, MT, USA)\n",
       "\t\t\tTA.D16A (Dana Ranch, Cascade, MT, USA)\n",
       "\t\t\tTA.D17A (Six Diamond Ranch, Ranyesford, MT, USA)\n",
       "\t\t\tUS.EGMT (Eagleton, Montana, USA)\n",
       "\t\t\tUS.MSO (Missoula, Montana, USA)\n",
       "\t\t\tY5.CLA (Claresholm, Alberta, CANADA)\n",
       "\t\t\tY5.LYA (Strathmore, Alberta, CANADA)\n",
       "\t\t\tY5.WALA (Waterton Lake, Alberta, CANADA)\n",
       "\t\tChannels (99):\n",
       "\t\t\tCN.WALA..BHZ, CN.WALA..BHN, CN.WALA..BHE, TA.A11A..BHZ, \n",
       "\t\t\tTA.A11A..BHN, TA.A11A..BHE, TA.A12A..BHZ, TA.A12A..BHN, \n",
       "\t\t\tTA.A12A..BHE, TA.A13A..BHZ, TA.A13A..BHN, TA.A13A..BHE, \n",
       "\t\t\tTA.A14A..BHZ, TA.A14A..BHN, TA.A14A..BHE, TA.A15A..BHZ, \n",
       "\t\t\tTA.A15A..BHN, TA.A15A..BHE, TA.A16A..BHZ, TA.A16A..BHN, \n",
       "\t\t\tTA.A16A..BHE, TA.A17A..BHZ, TA.A17A..BHN, TA.A17A..BHE, \n",
       "\t\t\tTA.A18A..BHZ, TA.A18A..BHN, TA.A18A..BHE, TA.B11A..BHZ, \n",
       "\t\t\tTA.B11A..BHN, TA.B11A..BHE, TA.B12A..BHZ, TA.B12A..BHN, \n",
       "\t\t\tTA.B12A..BHE, TA.B13A..BHZ, TA.B13A..BHN, TA.B13A..BHE, \n",
       "\t\t\tTA.B14A..BHZ, TA.B14A..BHN, TA.B14A..BHE, TA.B15A..BHZ, \n",
       "\t\t\tTA.B15A..BHN, TA.B15A..BHE, TA.B16A..BHZ, TA.B16A..BHN, \n",
       "\t\t\tTA.B16A..BHE, TA.B17A..BHZ, TA.B17A..BHN, TA.B17A..BHE, \n",
       "\t\t\tTA.B18A..BHZ, TA.B18A..BHN, TA.B18A..BHE, TA.C12B..BHZ, \n",
       "\t\t\tTA.C12B..BHN, TA.C12B..BHE, TA.C13A..BHZ, TA.C13A..BHN, \n",
       "\t\t\tTA.C13A..BHE, TA.C14A..BHZ, TA.C14A..BHN, TA.C14A..BHE, \n",
       "\t\t\tTA.C15A..BHZ, TA.C15A..BHN, TA.C15A..BHE, TA.C16A..BHZ, \n",
       "\t\t\tTA.C16A..BHN, TA.C16A..BHE, TA.C17A..BHZ, TA.C17A..BHN, \n",
       "\t\t\tTA.C17A..BHE, TA.D13A..BHZ, TA.D13A..BHN, TA.D13A..BHE, \n",
       "\t\t\tTA.D14A..BHZ, TA.D14A..BHN, TA.D14A..BHE, TA.D15A..BHZ, \n",
       "\t\t\tTA.D15A..BHN, TA.D15A..BHE, TA.D16A..BHZ, TA.D16A..BHN, \n",
       "\t\t\tTA.D16A..BHE, TA.D17A..BHZ, TA.D17A..BHN, TA.D17A..BHE, \n",
       "\t\t\tUS.EGMT..BHZ, US.EGMT..BHN, US.EGMT..BHE, US.MSO..BHZ, US.MSO..BHN\n",
       "\t\t\tUS.MSO..BHE, Y5.CLA..BHZ, Y5.CLA..BHN, Y5.CLA..BHE, Y5.LYA..BHZ, \n",
       "\t\t\tY5.LYA..BHN, Y5.LYA..BHE, Y5.WALA..BHZ, Y5.WALA..BHN, Y5.WALA..BHE"
      ]
     },
     "execution_count": 6,
     "metadata": {},
     "output_type": "execute_result"
    }
   ],
   "source": [
    "inventory"
   ]
  },
  {
   "cell_type": "markdown",
   "metadata": {
    "colab_type": "text",
    "id": "Bh_9MwzPiYWm"
   },
   "source": [
    "#### plot a station map if you want to"
   ]
  },
  {
   "cell_type": "code",
   "execution_count": 7,
   "metadata": {
    "colab": {},
    "colab_type": "code",
    "id": "-lwssKriiYWn",
    "scrolled": false
   },
   "outputs": [
    {
     "name": "stderr",
     "output_type": "stream",
     "text": [
      "/Users/23brianc/anaconda3/lib/python3.7/site-packages/obspy/imaging/maps.py:46: UserWarning: basemap/pyproj with proj4 version >= 5 has a bug that results in inverted map axes. Your maps may be wrong. Please use another version of proj4, or use cartopy. See https://github.com/matplotlib/basemap/issues/443\n",
      "  warnings.warn(msg)\n"
     ]
    },
    {
     "data": {
      "image/png": "[encoded data removed]",
      "text/plain": [
       "<Figure size 432x288 with 1 Axes>"
      ]
     },
     "metadata": {},
     "output_type": "display_data"
    }
   ],
   "source": [
    "stn_map = inventory.plot(projection=\"local\",show=False)"
   ]
  },
  {
   "cell_type": "markdown",
   "metadata": {
    "colab_type": "text",
    "id": "IhzbQkQViYWr"
   },
   "source": [
    "# Let the computer know the event"
   ]
  },
  {
   "cell_type": "code",
   "execution_count": 8,
   "metadata": {
    "colab": {},
    "colab_type": "code",
    "id": "k33rA-mjiYWs"
   },
   "outputs": [],
   "source": [
    "event_search_max_radius = kilometer2degrees(200) #in km"
   ]
  },
  {
   "cell_type": "code",
   "execution_count": 9,
   "metadata": {
    "colab": {},
    "colab_type": "code",
    "id": "xtvFnrzliYWu"
   },
   "outputs": [
    {
     "name": "stdout",
     "output_type": "stream",
     "text": [
      "1 Event(s) in Catalog:\n",
      "2008-01-03T13:28:13.570000Z | +49.287, -112.810 | 3.4 ML\n"
     ]
    }
   ],
   "source": [
    "catalogue = client.get_events(starttime=starttime,endtime=endtime,latitude=evla,longitude=evlo,\n",
    "                              maxradius=event_search_max_radius, minmagnitude=1,mindepth=0) # ***CHANGE THIS*** mindepth, minmag\n",
    "print(catalogue)"
   ]
  },
  {
   "cell_type": "markdown",
   "metadata": {
    "colab_type": "text",
    "id": "aHEimGSViYWx"
   },
   "source": [
    "#### Get event information"
   ]
  },
  {
   "cell_type": "code",
   "execution_count": 10,
   "metadata": {
    "colab": {},
    "colab_type": "code",
    "id": "uvdErPcjiYWx"
   },
   "outputs": [],
   "source": [
    "event_info = catalogue.events[0].origins[0]\n",
    "origin_time = event_info.time\n",
    "evlo = event_info.longitude\n",
    "evla = event_info.latitude\n",
    "evdp = event_info.depth\n",
    "\n",
    "yr = origin_time.year\n",
    "jd = origin_time.julday\n",
    "hr = origin_time.hour\n",
    "mins = origin_time.minute\n",
    "sec = origin_time.second\n",
    "msec = origin_time.microsecond\n",
    "\n",
    "# convert event depth to km if necessary\n",
    "if evdp > 1000:\n",
    "    evdp = evdp / 1000"
   ]
  },
  {
   "cell_type": "code",
   "execution_count": 13,
   "metadata": {},
   "outputs": [
    {
     "name": "stdout",
     "output_type": "stream",
     "text": [
      "Event:\t2019-12-23T22:34:08.160000Z | +41.522, -110.026 | 3.2 ML\n",
      "\n",
      "\t            resource_id: ResourceIdentifier(id=\"smi:service.iris.edu/fdsnws/event/1/query?eventid=11161759\")\n",
      "\t             event_type: 'earthquake'\n",
      "\t    preferred_origin_id: ResourceIdentifier(id=\"smi:service.iris.edu/fdsnws/event/1/query?originid=41837947\")\n",
      "\t preferred_magnitude_id: ResourceIdentifier(id=\"smi:service.iris.edu/fdsnws/event/1/query?magnitudeid=197294075\")\n",
      "\t                   ---------\n",
      "\t     event_descriptions: 1 Elements\n",
      "\t                origins: 1 Elements\n",
      "\t             magnitudes: 1 Elements\n"
     ]
    }
   ],
   "source": [
    "print(catalogue.events[0])"
   ]
  },
  {
   "cell_type": "code",
   "execution_count": 14,
   "metadata": {},
   "outputs": [],
   "source": [
    "%store -r common_stations\n",
    "\n",
    "origin_to_p_deep = []\n",
    "\n",
    "for net in inventory[:]:\n",
    "    for stn in net[:]:\n",
    "        stla = stn.latitude\n",
    "        stlo = stn.longitude\n",
    "        geo = gps2dist_azimuth(stla,stlo,evla,evlo)\n",
    "        epi_dist = geo[0]/1000   #in km\n",
    "        baz = geo[1]\n",
    "        gcarc = kilometer2degrees(epi_dist) # convert arc length to angle\n",
    "        \n",
    "        arrival = model.get_travel_times(source_depth_in_km=evdp, distance_in_degree=gcarc, phase_list=['P','p'])\n",
    "        P_arrival_time_at_stn = origin_time + arrival[0].time  #Only works when the UTCDateTime is first\n",
    "        seconds_before_P = P_arrival_time_at_stn - 120\n",
    "        seconds_after_P = P_arrival_time_at_stn + 1000\n",
    "        \n",
    "        for temp in common_stations:\n",
    "                if temp[\"stnm\"] == (net.code+\".\"+stn.code):\n",
    "                    origin_to_p_deep.append(arrival[0].time)\n",
    "                    "
   ]
  },
  {
   "cell_type": "code",
   "execution_count": 15,
   "metadata": {},
   "outputs": [
    {
     "name": "stdout",
     "output_type": "stream",
     "text": [
      "Stored 'origin_to_p_deep' (list)\n"
     ]
    }
   ],
   "source": [
    "%store origin_to_p_deep"
   ]
  },
  {
   "cell_type": "markdown",
   "metadata": {
    "colab_type": "text",
    "id": "txdDaqybiYW0"
   },
   "source": [
    "#### Plot a station-event map if you want to (not working now)"
   ]
  },
  {
   "cell_type": "code",
   "execution_count": 16,
   "metadata": {
    "colab": {},
    "colab_type": "code",
    "id": "RNAZEnagiYW0"
   },
   "outputs": [
    {
     "data": {
      "text/plain": [
       "<Figure size 432x288 with 0 Axes>"
      ]
     },
     "metadata": {},
     "output_type": "display_data"
    }
   ],
   "source": [
    "catalogue.plot(fig=stn_map);"
   ]
  },
  {
   "cell_type": "markdown",
   "metadata": {
    "colab_type": "text",
    "id": "X9P9P6vjiYW3"
   },
   "source": [
    "# Loop over each station in each network to request data"
   ]
  },
  {
   "cell_type": "code",
   "execution_count": 11,
   "metadata": {
    "colab": {},
    "colab_type": "code",
    "id": "oyGyNGpoiYW4"
   },
   "outputs": [
    {
     "name": "stdout",
     "output_type": "stream",
     "text": [
      "2008-01-03T13:28:28.178246Z\n",
      "No Data for station CN.WALA !!\n",
      "2008-01-03T13:28:52.284589Z\n",
      "Found 3 traces for station TA.A11A\n",
      "2008-01-03T13:28:46.015663Z\n",
      "Found 3 traces for station TA.A12A\n",
      "2008-01-03T13:28:34.861076Z\n",
      "Found 3 traces for station TA.A13A\n",
      "2008-01-03T13:28:23.493162Z\n",
      "Found 3 traces for station TA.A14A\n",
      "2008-01-03T13:28:19.813611Z\n",
      "Found 3 traces for station TA.A15A\n",
      "2008-01-03T13:28:30.234951Z\n",
      "Found 3 traces for station TA.A16A\n",
      "2008-01-03T13:28:39.515938Z\n",
      "Found 3 traces for station TA.A17A\n",
      "2008-01-03T13:28:47.127915Z\n",
      "Found 3 traces for station TA.A18A\n",
      "2008-01-03T13:28:54.225624Z\n",
      "Found 3 traces for station TA.B11A\n",
      "2008-01-03T13:28:47.495001Z\n",
      "Found 3 traces for station TA.B12A\n",
      "2008-01-03T13:28:39.493593Z\n",
      "Found 3 traces for station TA.B13A\n",
      "2008-01-03T13:28:32.330621Z\n",
      "Found 3 traces for station TA.B14A\n",
      "2008-01-03T13:28:32.568204Z\n",
      "Found 3 traces for station TA.B15A\n",
      "2008-01-03T13:28:35.311057Z\n",
      "Found 3 traces for station TA.B16A\n",
      "2008-01-03T13:28:42.718507Z\n",
      "Found 3 traces for station TA.B17A\n",
      "2008-01-03T13:28:50.030112Z\n",
      "Found 3 traces for station TA.B18A\n",
      "2008-01-03T13:28:52.511026Z\n",
      "Found 3 traces for station TA.C12B\n",
      "2008-01-03T13:28:47.252524Z\n",
      "Found 3 traces for station TA.C13A\n",
      "2008-01-03T13:28:42.456377Z\n",
      "No Data for station TA.C14A !!\n",
      "2008-01-03T13:28:40.765334Z\n",
      "Found 3 traces for station TA.C15A\n",
      "2008-01-03T13:28:42.514906Z\n",
      "Found 3 traces for station TA.C16A\n",
      "2008-01-03T13:28:49.353753Z\n",
      "Found 3 traces for station TA.C17A\n",
      "2008-01-03T13:28:53.639887Z\n",
      "Found 3 traces for station TA.D13A\n",
      "2008-01-03T13:28:50.887151Z\n",
      "Found 3 traces for station TA.D14A\n",
      "2008-01-03T13:28:50.880116Z\n",
      "Found 3 traces for station TA.D15A\n",
      "2008-01-03T13:28:53.012632Z\n",
      "Found 3 traces for station TA.D16A\n",
      "2008-01-03T13:28:55.132655Z\n",
      "Found 3 traces for station TA.D17A\n",
      "2008-01-03T13:28:52.698911Z\n",
      "Found 3 traces for station US.EGMT\n",
      "2008-01-03T13:28:55.259218Z\n",
      "Found 3 traces for station US.MSO\n",
      "2008-01-03T13:28:30.095221Z\n",
      "No Data for station Y5.CLA !!\n",
      "2008-01-03T13:28:46.312118Z\n",
      "Found 3 traces for station Y5.LYA\n",
      "2008-01-03T13:28:28.202389Z\n",
      "No Data for station Y5.WALA !!\n"
     ]
    }
   ],
   "source": [
    "for net in inventory[:]:\n",
    "    for stn in net[:]:\n",
    "        stla = stn.latitude\n",
    "        stlo = stn.longitude\n",
    "        geo = gps2dist_azimuth(stla,stlo,evla,evlo)\n",
    "        epi_dist = geo[0]/1000   #in km\n",
    "        baz = geo[1]\n",
    "        gcarc = kilometer2degrees(epi_dist) # convert arc length to angle\n",
    "        \n",
    "        arrival = model.get_travel_times(source_depth_in_km=evdp, distance_in_degree=gcarc, phase_list=['P','p'])\n",
    "        P_arrival_time_at_stn = origin_time + arrival[0].time  #Only works when the UTCDateTime is first\n",
    "        seconds_before_P = P_arrival_time_at_stn - 120\n",
    "        seconds_after_P = P_arrival_time_at_stn + 1000\n",
    "        print(P_arrival_time_at_stn)\n",
    "        \n",
    "        try:\n",
    "            stream = client.get_waveforms(net.code,stn.code,'*','BH*',origin_time,seconds_after_P,\n",
    "                               attach_response=True)\n",
    "        except:\n",
    "            print('No Data'+' for station '+net.code+'.'+stn.code+' !!')\n",
    "            continue\n",
    "\n",
    "        number_of_traces = len(stream)\n",
    "        number_of_locs = int(len(stream)/3)\n",
    "        print('Found '+str(number_of_traces)+' traces for station '+net.code+'.'+stn.code)\n",
    "        \n",
    "        # remove mean, linear trend and instrument response\n",
    "        try:\n",
    "            corrected_stream = detrend_and_remove_response(stream,prefilt);\n",
    "        except Exception as e:\n",
    "            print('Cannot correct for station '+net.code+'.'+stn.code+' !!'+' due to ', e)\n",
    "            continue\n",
    "        \n",
    "        # write raw data\n",
    "        for tr in stream:\n",
    "            loc = tr.stats.location\n",
    "            chan = tr.stats.channel\n",
    "            sacnm = raw_directory+'/'+net.code+'.'+stn.code+'.'+str(loc)+'.'+str(yr)+'-'+str(jd).zfill(3)+'-'+str(hr).zfill(2)+'-'+str(mins).zfill(2)+'-'+str(sec).zfill(2)+'.'+chan+'.SAC'\n",
    "            sac = SACTrace.from_obspy_trace(tr)\n",
    "            sac.gcarc = gcarc\n",
    "            sac.baz = baz\n",
    "            sac.evlo = evlo\n",
    "            sac.evla = evla\n",
    "            sac.stlo = stlo\n",
    "            sac.stla = stla\n",
    "            sac.evdp = evdp\n",
    "            sac.a = P_arrival_time_at_stn\n",
    "            sac.o = origin_time\n",
    "            sac.write(sacnm)\n",
    "        \n",
    "        # write corrected data\n",
    "        for tr in corrected_stream:\n",
    "            loc = tr.stats.location\n",
    "            chan = tr.stats.channel\n",
    "            sacnm = corrected_directory+'/'+net.code+'.'+stn.code+'.'+str(loc)+'.'+str(yr)+'-'+str(jd).zfill(3)+'-'+str(hr).zfill(2)+'-'+str(mins).zfill(2)+'-'+str(sec).zfill(2)+'.'+chan+'.SAC'\n",
    "            sac = SACTrace.from_obspy_trace(tr)\n",
    "            sac.gcarc = gcarc\n",
    "            sac.baz = baz\n",
    "            sac.evlo = evlo\n",
    "            sac.evla = evla\n",
    "            sac.stlo = stlo\n",
    "            sac.stla = stla\n",
    "            sac.evdp = evdp\n",
    "            sac.a = P_arrival_time_at_stn\n",
    "            sac.o = origin_time\n",
    "            sac.write(sacnm)"
   ]
  },
  {
   "cell_type": "code",
   "execution_count": 21,
   "metadata": {},
   "outputs": [
    {
     "data": {
      "text/plain": [
       "obspy.core.utcdatetime.UTCDateTime"
      ]
     },
     "execution_count": 21,
     "metadata": {},
     "output_type": "execute_result"
    }
   ],
   "source": [
    "type(seconds_before_P)"
   ]
  },
  {
   "cell_type": "markdown",
   "metadata": {
    "colab_type": "text",
    "id": "sJkuhF7BiYW7"
   },
   "source": [
    "### Quick preview of downloaded data"
   ]
  },
  {
   "cell_type": "code",
   "execution_count": 32,
   "metadata": {
    "colab": {},
    "colab_type": "code",
    "id": "Hi0M2aiTiYW7"
   },
   "outputs": [],
   "source": [
    "raw_st = read(raw_directory+'*')\n",
    "corrected_st = read(corrected_directory+'*')"
   ]
  },
  {
   "cell_type": "code",
   "execution_count": 33,
   "metadata": {
    "colab": {},
    "colab_type": "code",
    "id": "oDBDhTmLiYW_"
   },
   "outputs": [
    {
     "data": {
      "image/png": "[encoded data removed]",
      "text/plain": [
       "<Figure size 800x250 with 1 Axes>"
      ]
     },
     "metadata": {
      "needs_background": "light"
     },
     "output_type": "display_data"
    },
    {
     "data": {
      "image/png": "[encoded data removed]",
      "text/plain": [
       "<Figure size 800x250 with 1 Axes>"
      ]
     },
     "metadata": {
      "needs_background": "light"
     },
     "output_type": "display_data"
    }
   ],
   "source": [
    "index = 0\n",
    "\n",
    "raw_st[index].plot();\n",
    "corrected_st[index].plot();"
   ]
  },
  {
   "cell_type": "markdown",
   "metadata": {
    "colab_type": "text",
    "id": "LZEhKQOViYXD"
   },
   "source": [
    "# Play around with individual case"
   ]
  },
  {
   "cell_type": "code",
   "execution_count": 49,
   "metadata": {
    "colab": {},
    "colab_type": "code",
    "id": "8SLhB7ABiYXD"
   },
   "outputs": [],
   "source": [
    "stn = inventory[6][40]\n",
    "stla = stn.latitude\n",
    "stlo = stn.longitude\n",
    "geo = gps2dist_azimuth(stla,stlo,evla,evlo)\n",
    "epi_dist = geo[0]/1000. #in km\n",
    "baz = geo[1]\n",
    "gcarc = kilometer2degrees(epi_dist) # convert arc length to angle"
   ]
  },
  {
   "cell_type": "code",
   "execution_count": 50,
   "metadata": {
    "colab": {},
    "colab_type": "code",
    "id": "sIO9V8WZiYXG"
   },
   "outputs": [],
   "source": [
    "model = TauPyModel(model='ak135')\n",
    "arrival = model.get_travel_times(source_depth_in_km=evdp, distance_in_degree=gcarc, phase_list=['P','p'])"
   ]
  },
  {
   "cell_type": "code",
   "execution_count": 51,
   "metadata": {
    "colab": {},
    "colab_type": "code",
    "id": "czdxPE8PiYXJ"
   },
   "outputs": [],
   "source": [
    "P_arrival_time_at_stn = origin_time + arrival[0].time  #Only works when the UTCDateTime is first\n",
    "seconds_before_P = P_arrival_time_at_stn - 1000\n",
    "seconds_after_P = P_arrival_time_at_stn + 2000"
   ]
  },
  {
   "cell_type": "code",
   "execution_count": 52,
   "metadata": {
    "colab": {},
    "colab_type": "code",
    "id": "jamR-HhniYXT"
   },
   "outputs": [
    {
     "name": "stdout",
     "output_type": "stream",
     "text": [
      "No Data!\n"
     ]
    },
    {
     "ename": "NameError",
     "evalue": "name 'data' is not defined",
     "output_type": "error",
     "traceback": [
      "\u001b[0;31m---------------------------------------------------------------------------\u001b[0m",
      "\u001b[0;31mNameError\u001b[0m                                 Traceback (most recent call last)",
      "\u001b[0;32m<ipython-input-52-eb15736ef7b6>\u001b[0m in \u001b[0;36m<module>\u001b[0;34m\u001b[0m\n\u001b[1;32m      5\u001b[0m     \u001b[0mprint\u001b[0m\u001b[0;34m(\u001b[0m\u001b[0;34m'No Data!'\u001b[0m\u001b[0;34m)\u001b[0m\u001b[0;34m\u001b[0m\u001b[0;34m\u001b[0m\u001b[0m\n\u001b[1;32m      6\u001b[0m \u001b[0;34m\u001b[0m\u001b[0m\n\u001b[0;32m----> 7\u001b[0;31m \u001b[0mnumber_of_traces\u001b[0m \u001b[0;34m=\u001b[0m \u001b[0mlen\u001b[0m\u001b[0;34m(\u001b[0m\u001b[0mdata\u001b[0m\u001b[0;34m)\u001b[0m\u001b[0;34m\u001b[0m\u001b[0;34m\u001b[0m\u001b[0m\n\u001b[0m\u001b[1;32m      8\u001b[0m \u001b[0mnumber_of_locs\u001b[0m \u001b[0;34m=\u001b[0m \u001b[0mint\u001b[0m\u001b[0;34m(\u001b[0m\u001b[0mlen\u001b[0m\u001b[0;34m(\u001b[0m\u001b[0mdata\u001b[0m\u001b[0;34m)\u001b[0m\u001b[0;34m/\u001b[0m\u001b[0;36m3\u001b[0m\u001b[0;34m)\u001b[0m\u001b[0;34m\u001b[0m\u001b[0;34m\u001b[0m\u001b[0m\n\u001b[1;32m      9\u001b[0m \u001b[0mprint\u001b[0m\u001b[0;34m(\u001b[0m\u001b[0;34m'Find '\u001b[0m\u001b[0;34m+\u001b[0m\u001b[0mstr\u001b[0m\u001b[0;34m(\u001b[0m\u001b[0mnumber_of_traces\u001b[0m\u001b[0;34m)\u001b[0m\u001b[0;34m+\u001b[0m\u001b[0;34m' traces for station'\u001b[0m\u001b[0;34m)\u001b[0m\u001b[0;34m\u001b[0m\u001b[0;34m\u001b[0m\u001b[0m\n",
      "\u001b[0;31mNameError\u001b[0m: name 'data' is not defined"
     ]
    }
   ],
   "source": [
    "try:\n",
    "    data = client.get_waveforms('G','WUS','*','BH*',seconds_before_P,seconds_after_P,\n",
    "                               attach_response=True)\n",
    "except:\n",
    "    print('No Data!')\n",
    "\n",
    "number_of_traces = len(data)\n",
    "number_of_locs = int(len(data)/3)\n",
    "print('Find '+str(number_of_traces)+' traces for station')  "
   ]
  },
  {
   "cell_type": "code",
   "execution_count": null,
   "metadata": {
    "colab": {},
    "colab_type": "code",
    "id": "QRlEJiYHiYXV"
   },
   "outputs": [],
   "source": [
    "data.plot();"
   ]
  },
  {
   "cell_type": "code",
   "execution_count": null,
   "metadata": {
    "colab": {},
    "colab_type": "code",
    "id": "3Em16953iYXY"
   },
   "outputs": [],
   "source": [
    "detrend_and_remove_response(data,prefilt);\n",
    "data.plot();"
   ]
  },
  {
   "cell_type": "code",
   "execution_count": null,
   "metadata": {
    "colab": {},
    "colab_type": "code",
    "id": "KTc3rvbniYXc"
   },
   "outputs": [],
   "source": [
    "inventory[-1][61]"
   ]
  },
  {
   "cell_type": "code",
   "execution_count": null,
   "metadata": {
    "colab": {},
    "colab_type": "code",
    "id": "nzliNXdLiYXe"
   },
   "outputs": [],
   "source": []
  }
 ],
 "metadata": {
  "colab": {
   "name": "GetData_1Event_nStations.ipynb",
   "provenance": []
  },
  "kernelspec": {
   "display_name": "Python 3",
   "language": "python",
   "name": "python3"
  },
  "language_info": {
   "codemirror_mode": {
    "name": "ipython",
    "version": 3
   },
   "file_extension": ".py",
   "mimetype": "text/x-python",
   "name": "python",
   "nbconvert_exporter": "python",
   "pygments_lexer": "ipython3",
   "version": "3.7.3"
  }
 },
 "nbformat": 4,
 "nbformat_minor": 1
}
